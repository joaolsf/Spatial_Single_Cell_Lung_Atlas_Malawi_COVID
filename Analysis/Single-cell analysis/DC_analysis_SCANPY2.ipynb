{
 "cells": [
  {
   "cell_type": "markdown",
   "id": "623ae69d",
   "metadata": {},
   "source": [
    "# Import libraries and setup"
   ]
  },
  {
   "cell_type": "code",
   "execution_count": 1,
   "id": "c3f6c797",
   "metadata": {},
   "outputs": [
    {
     "name": "stderr",
     "output_type": "stream",
     "text": [
      "/Users/joaoluizsfilho/opt/anaconda3/envs/Squidpy/lib/python3.9/site-packages/geopandas/_compat.py:124: UserWarning: The Shapely GEOS version (3.11.1-CAPI-1.17.1) is incompatible with the GEOS version PyGEOS was compiled with (3.10.4-CAPI-1.16.2). Conversions between both will be slow.\n",
      "  warnings.warn(\n",
      "/Users/joaoluizsfilho/opt/anaconda3/envs/Squidpy/lib/python3.9/site-packages/spatialdata/__init__.py:9: UserWarning: Geopandas was set to use PyGEOS, changing to shapely 2.0 with:\n",
      "\n",
      "\tgeopandas.options.use_pygeos = True\n",
      "\n",
      "If you intended to use PyGEOS, set the option to False.\n",
      "  _check_geopandas_using_shapely()\n",
      "/Users/joaoluizsfilho/opt/anaconda3/envs/Squidpy/lib/python3.9/site-packages/numba/np/ufunc/parallel.py:371: NumbaWarning: \u001b[1mThe TBB threading layer requires TBB version 2021 update 6 or later i.e., TBB_INTERFACE_VERSION >= 12060. Found TBB_INTERFACE_VERSION = 12050. The TBB threading layer is disabled.\u001b[0m\n",
      "  warnings.warn(problem)\n",
      "OMP: Info #276: omp_set_nested routine deprecated, please use omp_set_max_active_levels instead.\n",
      "/Users/joaoluizsfilho/opt/anaconda3/envs/Squidpy/lib/python3.9/site-packages/loompy/bus_file.py:68: NumbaDeprecationWarning: \u001b[1mThe 'nopython' keyword argument was not supplied to the 'numba.jit' decorator. The implicit default value for this argument is currently False, but it will be changed to True in Numba 0.59.0. See https://numba.readthedocs.io/en/stable/reference/deprecation.html#deprecation-of-object-mode-fall-back-behaviour-when-using-jit for details.\u001b[0m\n",
      "  def twobit_to_dna(twobit: int, size: int) -> str:\n",
      "/Users/joaoluizsfilho/opt/anaconda3/envs/Squidpy/lib/python3.9/site-packages/loompy/bus_file.py:85: NumbaDeprecationWarning: \u001b[1mThe 'nopython' keyword argument was not supplied to the 'numba.jit' decorator. The implicit default value for this argument is currently False, but it will be changed to True in Numba 0.59.0. See https://numba.readthedocs.io/en/stable/reference/deprecation.html#deprecation-of-object-mode-fall-back-behaviour-when-using-jit for details.\u001b[0m\n",
      "  def dna_to_twobit(dna: str) -> int:\n",
      "/Users/joaoluizsfilho/opt/anaconda3/envs/Squidpy/lib/python3.9/site-packages/loompy/bus_file.py:102: NumbaDeprecationWarning: \u001b[1mThe 'nopython' keyword argument was not supplied to the 'numba.jit' decorator. The implicit default value for this argument is currently False, but it will be changed to True in Numba 0.59.0. See https://numba.readthedocs.io/en/stable/reference/deprecation.html#deprecation-of-object-mode-fall-back-behaviour-when-using-jit for details.\u001b[0m\n",
      "  def twobit_1hamming(twobit: int, size: int) -> List[int]:\n",
      "/Users/joaoluizsfilho/opt/anaconda3/envs/Squidpy/lib/python3.9/site-packages/umap/distances.py:1063: NumbaDeprecationWarning: \u001b[1mThe 'nopython' keyword argument was not supplied to the 'numba.jit' decorator. The implicit default value for this argument is currently False, but it will be changed to True in Numba 0.59.0. See https://numba.readthedocs.io/en/stable/reference/deprecation.html#deprecation-of-object-mode-fall-back-behaviour-when-using-jit for details.\u001b[0m\n",
      "  @numba.jit()\n",
      "/Users/joaoluizsfilho/opt/anaconda3/envs/Squidpy/lib/python3.9/site-packages/umap/distances.py:1071: NumbaDeprecationWarning: \u001b[1mThe 'nopython' keyword argument was not supplied to the 'numba.jit' decorator. The implicit default value for this argument is currently False, but it will be changed to True in Numba 0.59.0. See https://numba.readthedocs.io/en/stable/reference/deprecation.html#deprecation-of-object-mode-fall-back-behaviour-when-using-jit for details.\u001b[0m\n",
      "  @numba.jit()\n",
      "/Users/joaoluizsfilho/opt/anaconda3/envs/Squidpy/lib/python3.9/site-packages/umap/distances.py:1086: NumbaDeprecationWarning: \u001b[1mThe 'nopython' keyword argument was not supplied to the 'numba.jit' decorator. The implicit default value for this argument is currently False, but it will be changed to True in Numba 0.59.0. See https://numba.readthedocs.io/en/stable/reference/deprecation.html#deprecation-of-object-mode-fall-back-behaviour-when-using-jit for details.\u001b[0m\n",
      "  @numba.jit()\n",
      "/Users/joaoluizsfilho/opt/anaconda3/envs/Squidpy/lib/python3.9/site-packages/umap/umap_.py:660: NumbaDeprecationWarning: \u001b[1mThe 'nopython' keyword argument was not supplied to the 'numba.jit' decorator. The implicit default value for this argument is currently False, but it will be changed to True in Numba 0.59.0. See https://numba.readthedocs.io/en/stable/reference/deprecation.html#deprecation-of-object-mode-fall-back-behaviour-when-using-jit for details.\u001b[0m\n",
      "  @numba.jit()\n"
     ]
    }
   ],
   "source": [
    "# Import libraries we may need\n",
    "import scanpy as sc\n",
    "import numpy as np\n",
    "import scipy as sp\n",
    "import squidpy as sq\n",
    "import pandas as pd\n",
    "import matplotlib.pyplot as plt\n",
    "from matplotlib import rcParams\n",
    "from matplotlib import colors\n",
    "import seaborn as sb\n",
    "import scanpy.external as sce\n",
    "import wget\n",
    "import yaml\n",
    "import wget\n",
    "import astir\n",
    "import dill\n",
    "import umap\n",
    "reducer = umap.UMAP()\n",
    "import anndata as ad\n",
    "\n",
    "#My module for importing IMC data into AnnData format\n",
    "import mikeimc as mimc\n",
    "import mikeimc_v2 as mikeimc_v2"
   ]
  },
  {
   "cell_type": "code",
   "execution_count": 2,
   "id": "e92a268f",
   "metadata": {},
   "outputs": [],
   "source": [
    "# Set up output figure settings\n",
    "plt.rcParams['figure.figsize']=(64,64) #rescale figures, increase sizehere\n",
    "\n",
    "# Set up scanpy settings\n",
    "sc.settings.verbosity = 3\n",
    "sc.set_figure_params(dpi=100, dpi_save=300) #Increase DPI for better resolution figures\n",
    "#sc.logging.print_versions()"
   ]
  },
  {
   "cell_type": "markdown",
   "id": "c4ee8a29",
   "metadata": {},
   "source": [
    "# Save / restore adatas"
   ]
  },
  {
   "cell_type": "code",
   "execution_count": 3,
   "id": "ed0eadde",
   "metadata": {},
   "outputs": [],
   "source": [
    "# load main adata\n",
    "adata_subset2 = ad.read_h5ad('./2_h5ad files/adata_subset2')\n",
    "adata_COVID = ad.read_h5ad('./2_h5ad files/adata_COVID')"
   ]
  },
  {
   "cell_type": "code",
   "execution_count": null,
   "id": "35cd73d6",
   "metadata": {},
   "outputs": [],
   "source": [
    "adata_subset2"
   ]
  },
  {
   "cell_type": "code",
   "execution_count": 12,
   "id": "4f1d22e6",
   "metadata": {},
   "outputs": [],
   "source": [
    "# save main adata\n",
    "adata_subset2.write('./2_h5ad files/adata_subset2')"
   ]
  },
  {
   "cell_type": "markdown",
   "id": "27b1a5c4",
   "metadata": {},
   "source": [
    "# Subset anndata to plot specfic cell types in COVID+ HIVneg vs COVID+ HIVpos"
   ]
  },
  {
   "cell_type": "code",
   "execution_count": null,
   "id": "c6de7def",
   "metadata": {},
   "outputs": [],
   "source": [
    "#read adata\n",
    "ad_neutro = ad.read_h5ad('./2_h5ad files/adata_subset2_neutrophil')\n",
    "ad_macro = ad.read_h5ad('./2_h5ad files/adata_subset2_macrophage')\n",
    "ad_lymphoid = ad.read_h5ad('./2_h5ad files/adata_subset2_lymphoid')\n",
    "ad_epithelial = ad.read_h5ad('./2_h5ad files/adata_subset2_epithelial')\n",
    "ad_stromal = ad.read_h5ad('./2_h5ad files/adata_subset2_stromal')\n",
    "ad_endothelium = ad.read_h5ad('./2_h5ad files/adata_subset2_endothelium')\n",
    "ad_RBC = ad.read_h5ad('./2_h5ad files/adata_subset2_RBC')"
   ]
  },
  {
   "cell_type": "code",
   "execution_count": null,
   "id": "9b871512",
   "metadata": {},
   "outputs": [],
   "source": [
    "#save adata\n",
    "ad_neutro.write('./2_h5ad files/adata_subset2_neutrophil')\n",
    "ad_macro.write('./2_h5ad files/adata_subset2_macrophage')\n",
    "ad_lymphoid.write('./2_h5ad files/adata_subset2_lymphoid')\n",
    "ad_epithelial.write('./2_h5ad files/adata_subset2_epithelial')\n",
    "ad_stromal.write('./2_h5ad files/adata_subset2_stromal')\n",
    "ad_endothelium.write('./2_h5ad files/adata_subset2_endothelium')\n",
    "ad_RBC.write('./2_h5ad files/adata_subset2_RBC')"
   ]
  },
  {
   "cell_type": "code",
   "execution_count": null,
   "id": "f8cc72cc",
   "metadata": {},
   "outputs": [],
   "source": [
    "ad_HIV_POS = ad.read_h5ad('./2_h5ad files/ad_HIV_POS')\n",
    "ad_HIV_NEG = ad.read_h5ad('./2_h5ad files/ad_HIV_NEG')"
   ]
  },
  {
   "cell_type": "code",
   "execution_count": null,
   "id": "b5c609b7",
   "metadata": {},
   "outputs": [],
   "source": [
    "ad_HIV_POS.write('./2_h5ad files/ad_HIV_POS')\n",
    "ad_HIV_NEG.write('./2_h5ad files/ad_HIV_NEG')"
   ]
  },
  {
   "cell_type": "code",
   "execution_count": 70,
   "id": "e6a81d63",
   "metadata": {},
   "outputs": [
    {
     "data": {
      "text/plain": [
       "{'SARSCoV2+ ArginaseHighVISTAHigh Activated Neutrophil': '#336600',\n",
       " 'ArginaseLowVISTALow Neutrophil': '#9cded6',\n",
       " 'ArginaseLowVISTALow Activated Neutrophil': '#0fcfc0',\n",
       " 'ArginaseHighVISTAHigh Activated Neutrophil': '#8dd593',\n",
       " 'RBC': '#f71f0f',\n",
       " 'Endothelial cell': '#e07b91',\n",
       " 'Activated Endothelial cell': '#0070C0',\n",
       " 'Proliferative Endothelial cell': '#fce5cd',\n",
       " 'Smooth Muscle cell': '#FA8000',\n",
       " 'Fibroblast': '#b86cb9',\n",
       " 'Proliferative Fibroblast': '#d33f6a',\n",
       " 'Apoptotic Fibroblast': '#FF7DA8',\n",
       " 'SARSCoV2+ Interstitial Macrophage': '#00B0F0',\n",
       " 'Apoptotic SARSCoV2+  Alveolar Macrophage': '#FFD966',\n",
       " 'Interstitial Macrophage': '#4a6fe3',\n",
       " 'Proliferating Interstitial Macrophage': '#4900EF',\n",
       " 'Alveolar Macrophage': '#A381EF',\n",
       " 'Apoptotic Alveolar Macrophage': '#8595e1',\n",
       " 'CD11c+ cell': '#b5bbe3',\n",
       " 'Classical Monocyte': '#b86cb9',\n",
       " 'AT2 cell': '#d6bcc0',\n",
       " 'SARSCoV2+ AT2 cell': '#A53F02',\n",
       " 'SARSCoV2+ Epithelial cell': '#b9877d',\n",
       " 'Epithelial cell': '#f0b98d',\n",
       " 'Proliferative Epithelial cell': '#f4cccc',\n",
       " 'Proliferative CD8 T cell': '#8faac2',\n",
       " 'CD8 T cell': '#6fa8dc',\n",
       " 'EM CD8 T cell': '#4d7191',\n",
       " 'EM CD4 T cell': '#ff46a1',\n",
       " 'CD4 Treg cell': '#A64D79',\n",
       " 'Proliferative CD4 T cell': '#ffe6f2',\n",
       " 'CD3+ cell': '#d9d2e9',\n",
       " 'B cell': '#000000'}"
      ]
     },
     "execution_count": 70,
     "metadata": {},
     "output_type": "execute_result"
    }
   ],
   "source": [
    "col_df = pd.read_csv('mikeimc_approach/colours/pheno_colours2.csv')\n",
    "colour_palette = col_df.set_index('pheno_cluster_new').to_dict()\n",
    "colour_palette['colour']"
   ]
  },
  {
   "cell_type": "markdown",
   "id": "b10e0bb8",
   "metadata": {},
   "source": [
    "# Analysis of Neutrophils"
   ]
  },
  {
   "cell_type": "code",
   "execution_count": null,
   "id": "a37b6e54",
   "metadata": {},
   "outputs": [],
   "source": [
    "ad_neutro"
   ]
  },
  {
   "cell_type": "code",
   "execution_count": null,
   "id": "84455668",
   "metadata": {},
   "outputs": [],
   "source": [
    "#Plot heatmap  with the same markers used to identify neutrophil clusters\n",
    "\n",
    "markers = ['Arginase1','CD11b', 'CD11c', 'CD14', 'CD16', 'CD163', 'CD206', 'CD45', 'CD66b', 'CD68', 'Iba1', 'CD74', 'MHCII', 'MHCI', 'Vista', \n",
    "                   'iNOS', 'CD38','CD107a', 'GranzymeB', 'Ki67', 'ClvdCaspase3', 'SARSCoV2']\n",
    "sc.tl.dendrogram(ad_neutro, groupby = 'pheno_cluster')\n",
    "sc.pl.heatmap(ad_neutro, markers, groupby='pheno_cluster', cmap='viridis', swap_axes=False, dendrogram=True, save='_neutrophil_clusters.pdf')"
   ]
  },
  {
   "cell_type": "code",
   "execution_count": null,
   "id": "5eb74aee",
   "metadata": {},
   "outputs": [],
   "source": [
    "#Compute a ranking for the highly differential markers in each cluster\n",
    "#To identify differentially expressed genes we run sc.tl.rank_genes_groups. \n",
    "#This function will take each group of cells and compare the distribution of each gene in a group against the distribution in all other cells not in the group. \n",
    "sc.tl.rank_genes_groups(ad_neutro, 'pheno_cluster', reference='rest', method='wilcoxon', corr_method='benjamini-hochberg', pts=True)"
   ]
  },
  {
   "cell_type": "code",
   "execution_count": null,
   "id": "3d4bb8ac",
   "metadata": {},
   "outputs": [],
   "source": [
    "sc.set_figure_params(dpi=100, dpi_save=300)\n",
    "sc.pl.violin(ad_neutro, ['MHCI','iNOS', 'CD38', 'CD107a', 'GranzymeB', 'ClvdCaspase3'], \n",
    "             groupby='pheno_cluster', rotation=90, save='neutrophil_specificmarkers_wilcoxon.pdf')\n"
   ]
  },
  {
   "cell_type": "code",
   "execution_count": null,
   "id": "51aab8e7",
   "metadata": {},
   "outputs": [],
   "source": [
    "#subset based on COVID+ HIVNeg vs HIVPos\n",
    "ad_neutro2 = ad_neutro[ad_neutro.obs['Group'].isin(['COVID-19']),:].copy()\n"
   ]
  },
  {
   "cell_type": "code",
   "execution_count": null,
   "id": "f0284c80",
   "metadata": {},
   "outputs": [],
   "source": [
    "ad_neutro2.obs['Group']"
   ]
  },
  {
   "cell_type": "code",
   "execution_count": null,
   "id": "69180812",
   "metadata": {},
   "outputs": [],
   "source": [
    "#stack bar code and extracting number of cells, distribution of each cluster per case or the cluster composition per case\n",
    "#for number of cells - don't use normalize\n",
    "#for distribution of each case per cluster - use normalize = \"index\"\n",
    "#for cluster composition per case - use normalize = \"columns\"\n",
    "tmp = pd.crosstab(ad_neutro2.obs['pheno_cluster'], ad_neutro2.obs['HIV'], margins=False, margins_name='Total', normalize=\"columns\")"
   ]
  },
  {
   "cell_type": "code",
   "execution_count": null,
   "id": "b98ee85b",
   "metadata": {},
   "outputs": [],
   "source": [
    "tmp2 = tmp.reindex(['ArginaseLowVISTALow Neutrophil', 'GrBLowArginaseLowVISTALow Activated Neutrophil',\n",
    "                    'GrBHighArginaseLowVISTALow Activated Neutrophil', \n",
    "                    'GrBHighArginaseHighVISTAHigh Activated Neutrophil',\n",
    "                    'SARSCoV2+ ArginaseHighVISTAHigh Activated Neutrophil'])"
   ]
  },
  {
   "cell_type": "code",
   "execution_count": null,
   "id": "dd9868c1",
   "metadata": {},
   "outputs": [],
   "source": [
    "tmp3 = pd.DataFrame.transpose(tmp2)"
   ]
  },
  {
   "cell_type": "code",
   "execution_count": null,
   "id": "7b725617",
   "metadata": {},
   "outputs": [],
   "source": [
    "#color for stack bars for the disease groups matching the other bar graphs\n",
    "#F08080 - light coral\n",
    "#87CEFA - lightskyblue\n",
    "#D3D3D3 - lightgrey\n",
    "\n",
    "pretty_colors = ['#F08080','#87CEFA','#D3D3D3']\n",
    "color_pal = sb.color_palette('Paired', 8)\n",
    "\n",
    "tmp3.plot.bar(stacked=True, color=color_pal, figsize=(4, 4), rot=0).legend(bbox_to_anchor=(1, 1))"
   ]
  },
  {
   "cell_type": "markdown",
   "id": "c30c0b77",
   "metadata": {},
   "source": [
    "# Analysis of Macrophages"
   ]
  },
  {
   "cell_type": "code",
   "execution_count": null,
   "id": "a6a2582c",
   "metadata": {},
   "outputs": [],
   "source": [
    "#subset based on COVID+ HIVNeg vs HIVPos\n",
    "ad_macro2 = ad_macro[ad_macro.obs['Group'].isin(['COVID-19']),:].copy()"
   ]
  },
  {
   "cell_type": "code",
   "execution_count": null,
   "id": "50397f4f",
   "metadata": {},
   "outputs": [],
   "source": [
    "ad_macro2.obs['Group']"
   ]
  },
  {
   "cell_type": "code",
   "execution_count": null,
   "id": "34128cce",
   "metadata": {},
   "outputs": [],
   "source": [
    "#stack bar code and extracting number of cells, distribution of each cluster per case or the cluster composition per case\n",
    "#for number of cells - don't use normalize\n",
    "#for distribution of each case per cluster - use normalize = \"index\"\n",
    "#for cluster composition per case - use normalize = \"columns\"\n",
    "tmp = pd.crosstab(ad_macro2.obs['pheno_cluster'], ad_macro2.obs['HIV'], margins=False, margins_name='Total', normalize=\"columns\")"
   ]
  },
  {
   "cell_type": "code",
   "execution_count": null,
   "id": "c8a359f2",
   "metadata": {},
   "outputs": [],
   "source": [
    "tmp3 = pd.DataFrame.transpose(tmp)"
   ]
  },
  {
   "cell_type": "code",
   "execution_count": null,
   "id": "f45c78dc",
   "metadata": {},
   "outputs": [],
   "source": [
    "#color for stack bars for the disease groups matching the other bar graphs\n",
    "#F08080 - light coral\n",
    "#87CEFA - lightskyblue\n",
    "#D3D3D3 - lightgrey\n",
    "\n",
    "pretty_colors = ['#F08080','#87CEFA','#D3D3D3']\n",
    "color_pal = sb.color_palette('Paired', 8)\n",
    "\n",
    "tmp3.plot.bar(stacked=True, color=color_pal, figsize=(4, 4), rot=0).legend(bbox_to_anchor=(1, 1))"
   ]
  },
  {
   "cell_type": "markdown",
   "id": "4091ea3c",
   "metadata": {},
   "source": [
    "# Analysis of Lymphoid cells"
   ]
  },
  {
   "cell_type": "code",
   "execution_count": null,
   "id": "6919bd20",
   "metadata": {},
   "outputs": [],
   "source": [
    "#subset based on COVID+ HIVNeg vs HIVPos\n",
    "ad_lympho2 = ad_lymphoid[ad_lymphoid.obs['Group'].isin(['COVID-19']),:].copy()"
   ]
  },
  {
   "cell_type": "code",
   "execution_count": null,
   "id": "31bc8663",
   "metadata": {},
   "outputs": [],
   "source": [
    "tmp = pd.crosstab(ad_lympho2.obs['pheno_cluster'], ad_lympho2.obs['HIV'], margins=False, margins_name='Total', normalize=\"columns\")"
   ]
  },
  {
   "cell_type": "code",
   "execution_count": null,
   "id": "124d140a",
   "metadata": {},
   "outputs": [],
   "source": [
    "tmp3 = pd.DataFrame.transpose(tmp)"
   ]
  },
  {
   "cell_type": "code",
   "execution_count": null,
   "id": "7ed573f4",
   "metadata": {},
   "outputs": [],
   "source": [
    "pretty_colors = ['#F08080','#87CEFA','#D3D3D3']\n",
    "color_pal = sb.color_palette('Paired', 8)\n",
    "\n",
    "tmp3.plot.bar(stacked=True, color=color_pal, figsize=(4, 4), rot=0).legend(bbox_to_anchor=(1, 1))"
   ]
  },
  {
   "cell_type": "markdown",
   "id": "38fdd5d5",
   "metadata": {},
   "source": [
    "# Analysis of Epithelial cells"
   ]
  },
  {
   "cell_type": "code",
   "execution_count": null,
   "id": "53a5ef99",
   "metadata": {},
   "outputs": [],
   "source": [
    "#subset based on COVID+ HIVNeg vs HIVPos\n",
    "ad_epithelial2 = ad_epithelial[ad_epithelial.obs['Group'].isin(['COVID-19']),:].copy()"
   ]
  },
  {
   "cell_type": "code",
   "execution_count": null,
   "id": "6fe18927",
   "metadata": {},
   "outputs": [],
   "source": [
    "tmp = pd.crosstab(ad_epithelial2.obs['pheno_cluster'], ad_epithelial2.obs['HIV'], margins=False, margins_name='Total', normalize=\"columns\")"
   ]
  },
  {
   "cell_type": "code",
   "execution_count": null,
   "id": "57fb85ee",
   "metadata": {},
   "outputs": [],
   "source": [
    "tmp3 = pd.DataFrame.transpose(tmp)"
   ]
  },
  {
   "cell_type": "code",
   "execution_count": null,
   "id": "6633e0ad",
   "metadata": {},
   "outputs": [],
   "source": [
    "pretty_colors = ['#F08080','#87CEFA','#D3D3D3']\n",
    "color_pal = sb.color_palette('Paired', 8)\n",
    "\n",
    "tmp3.plot.bar(stacked=True, color=color_pal, figsize=(4, 4), rot=0).legend(bbox_to_anchor=(1, 1))"
   ]
  },
  {
   "cell_type": "markdown",
   "id": "0e1b266a",
   "metadata": {},
   "source": [
    "# Analysis of Endothelial cells"
   ]
  },
  {
   "cell_type": "code",
   "execution_count": null,
   "id": "f43fc463",
   "metadata": {},
   "outputs": [],
   "source": [
    "#subset based on COVID+ HIVNeg vs HIVPos\n",
    "ad_endotheliuml2 = ad_endothelium[ad_endothelium.obs['Group'].isin(['COVID-19']),:].copy()\n",
    "\n",
    "tmp = pd.crosstab(ad_endotheliuml2.obs['pheno_cluster'], ad_endotheliuml2.obs['HIV'], margins=False, margins_name='Total', normalize=\"columns\")\n",
    "\n",
    "tmp3 = pd.DataFrame.transpose(tmp)"
   ]
  },
  {
   "cell_type": "code",
   "execution_count": null,
   "id": "e6dcd8c9",
   "metadata": {},
   "outputs": [],
   "source": [
    "pretty_colors = ['#F08080','#87CEFA','#D3D3D3']\n",
    "color_pal = sb.color_palette('Paired', 8)\n",
    "\n",
    "tmp3.plot.bar(stacked=True, color=color_pal, figsize=(4, 4), rot=0).legend(bbox_to_anchor=(1, 1))"
   ]
  },
  {
   "cell_type": "markdown",
   "id": "d4c00997",
   "metadata": {},
   "source": [
    "# Analysis of Stromal cells"
   ]
  },
  {
   "cell_type": "code",
   "execution_count": null,
   "id": "c77dd7ab",
   "metadata": {},
   "outputs": [],
   "source": [
    "#subset based on COVID+ HIVNeg vs HIVPos\n",
    "ad_stromal2 = ad_stromal[ad_stromal.obs['Group'].isin(['COVID-19']),:].copy()\n",
    "\n",
    "tmp = pd.crosstab(ad_stromal2.obs['pheno_cluster'], ad_stromal2.obs['HIV'], margins=False, margins_name='Total', normalize=\"columns\")\n",
    "\n",
    "tmp3 = pd.DataFrame.transpose(tmp)"
   ]
  },
  {
   "cell_type": "code",
   "execution_count": null,
   "id": "c31cbfd1",
   "metadata": {},
   "outputs": [],
   "source": [
    "pretty_colors = ['#F08080','#87CEFA','#D3D3D3']\n",
    "color_pal = sb.color_palette('Paired', 8)\n",
    "\n",
    "tmp3.plot.bar(stacked=True, color=color_pal, figsize=(4, 4), rot=0).legend(bbox_to_anchor=(1, 1))"
   ]
  },
  {
   "cell_type": "markdown",
   "id": "b73da9a9",
   "metadata": {},
   "source": [
    "# Comparisons based on Histopathology"
   ]
  },
  {
   "cell_type": "code",
   "execution_count": null,
   "id": "c6210c82",
   "metadata": {},
   "outputs": [],
   "source": [
    "adata_subset2.obs['CaseID']"
   ]
  },
  {
   "cell_type": "code",
   "execution_count": null,
   "id": "a2b506f2",
   "metadata": {},
   "outputs": [],
   "source": [
    "# Set `skip_data=False` if you also want to export the data.\n",
    "adata_subset2.write_csvs(dirname='./1_CSV files/adata_subset2', skip_data=False)"
   ]
  },
  {
   "cell_type": "code",
   "execution_count": null,
   "id": "9b30c382",
   "metadata": {},
   "outputs": [],
   "source": [
    "# Adding histology annotations \n",
    "anno = pd.read_csv(filepath_or_buffer='./1_CSV files/adata_subset2/obs.csv', index_col=0)"
   ]
  },
  {
   "cell_type": "code",
   "execution_count": null,
   "id": "030e1390",
   "metadata": {},
   "outputs": [],
   "source": [
    "anno.index"
   ]
  },
  {
   "cell_type": "code",
   "execution_count": null,
   "id": "4c64b2ad",
   "metadata": {},
   "outputs": [],
   "source": [
    "adata_subset2.obs.index"
   ]
  },
  {
   "cell_type": "code",
   "execution_count": null,
   "id": "de47f32a",
   "metadata": {},
   "outputs": [],
   "source": [
    "anno['Histo'].values"
   ]
  },
  {
   "cell_type": "code",
   "execution_count": null,
   "id": "c4fd2b2e",
   "metadata": {},
   "outputs": [],
   "source": [
    "adata_subset2.obs['Histo'] = anno['Histo'].values"
   ]
  },
  {
   "cell_type": "code",
   "execution_count": null,
   "id": "17adbc36",
   "metadata": {},
   "outputs": [],
   "source": [
    "adata_subset2.obs['Histo']"
   ]
  },
  {
   "cell_type": "code",
   "execution_count": 6,
   "id": "a8a33d34",
   "metadata": {},
   "outputs": [
    {
     "data": {
      "text/html": [
       "<div>\n",
       "<style scoped>\n",
       "    .dataframe tbody tr th:only-of-type {\n",
       "        vertical-align: middle;\n",
       "    }\n",
       "\n",
       "    .dataframe tbody tr th {\n",
       "        vertical-align: top;\n",
       "    }\n",
       "\n",
       "    .dataframe thead th {\n",
       "        text-align: right;\n",
       "    }\n",
       "</style>\n",
       "<table border=\"1\" class=\"dataframe\">\n",
       "  <thead>\n",
       "    <tr style=\"text-align: right;\">\n",
       "      <th></th>\n",
       "      <th>Master_Index</th>\n",
       "      <th>ROI</th>\n",
       "      <th>TMAID</th>\n",
       "      <th>CaseID</th>\n",
       "      <th>Region</th>\n",
       "      <th>Patient</th>\n",
       "      <th>Group</th>\n",
       "      <th>Diagnosis</th>\n",
       "      <th>X_loc</th>\n",
       "      <th>Y_loc</th>\n",
       "      <th>umap_density_Group</th>\n",
       "      <th>cell_type</th>\n",
       "      <th>hierarchy</th>\n",
       "      <th>pheno_cluster</th>\n",
       "      <th>HIV</th>\n",
       "      <th>Histo</th>\n",
       "      <th>pheno_cluster_new</th>\n",
       "    </tr>\n",
       "  </thead>\n",
       "  <tbody>\n",
       "    <tr>\n",
       "      <th>18</th>\n",
       "      <td>18</td>\n",
       "      <td>0205_1_A</td>\n",
       "      <td>COS-0205</td>\n",
       "      <td>COS-002-05-J1</td>\n",
       "      <td>COS-02-Right</td>\n",
       "      <td>COS-02</td>\n",
       "      <td>Non_Pneumonia</td>\n",
       "      <td>Sepsis</td>\n",
       "      <td>208.923077</td>\n",
       "      <td>16.423077</td>\n",
       "      <td>0.320959</td>\n",
       "      <td>Macrophage</td>\n",
       "      <td>Myeloid</td>\n",
       "      <td>Alveolar Macrophage</td>\n",
       "      <td>HIV_Pos</td>\n",
       "      <td>Lymphoplasmacytic inflammation</td>\n",
       "      <td>Alveolar Macrophage</td>\n",
       "    </tr>\n",
       "    <tr>\n",
       "      <th>28</th>\n",
       "      <td>28</td>\n",
       "      <td>0205_1_A</td>\n",
       "      <td>COS-0205</td>\n",
       "      <td>COS-002-05-J1</td>\n",
       "      <td>COS-02-Right</td>\n",
       "      <td>COS-02</td>\n",
       "      <td>Non_Pneumonia</td>\n",
       "      <td>Sepsis</td>\n",
       "      <td>155.384615</td>\n",
       "      <td>26.615385</td>\n",
       "      <td>0.329502</td>\n",
       "      <td>Fibroblast</td>\n",
       "      <td>Stromal</td>\n",
       "      <td>Fibroblast</td>\n",
       "      <td>HIV_Pos</td>\n",
       "      <td>Lymphoplasmacytic inflammation</td>\n",
       "      <td>Fibroblast</td>\n",
       "    </tr>\n",
       "    <tr>\n",
       "      <th>30</th>\n",
       "      <td>30</td>\n",
       "      <td>0205_1_A</td>\n",
       "      <td>COS-0205</td>\n",
       "      <td>COS-002-05-J1</td>\n",
       "      <td>COS-02-Right</td>\n",
       "      <td>COS-02</td>\n",
       "      <td>Non_Pneumonia</td>\n",
       "      <td>Sepsis</td>\n",
       "      <td>284.500000</td>\n",
       "      <td>27.500000</td>\n",
       "      <td>0.244718</td>\n",
       "      <td>Smooth Muscle Cell</td>\n",
       "      <td>Stromal</td>\n",
       "      <td>Smooth Muscle cell</td>\n",
       "      <td>HIV_Pos</td>\n",
       "      <td>Lymphoplasmacytic inflammation</td>\n",
       "      <td>Smooth Muscle cell</td>\n",
       "    </tr>\n",
       "    <tr>\n",
       "      <th>31</th>\n",
       "      <td>31</td>\n",
       "      <td>0205_1_A</td>\n",
       "      <td>COS-0205</td>\n",
       "      <td>COS-002-05-J1</td>\n",
       "      <td>COS-02-Right</td>\n",
       "      <td>COS-02</td>\n",
       "      <td>Non_Pneumonia</td>\n",
       "      <td>Sepsis</td>\n",
       "      <td>290.500000</td>\n",
       "      <td>28.000000</td>\n",
       "      <td>0.231831</td>\n",
       "      <td>Smooth Muscle Cell</td>\n",
       "      <td>Stromal</td>\n",
       "      <td>Smooth Muscle cell</td>\n",
       "      <td>HIV_Pos</td>\n",
       "      <td>Lymphoplasmacytic inflammation</td>\n",
       "      <td>Smooth Muscle cell</td>\n",
       "    </tr>\n",
       "    <tr>\n",
       "      <th>34</th>\n",
       "      <td>34</td>\n",
       "      <td>0205_1_A</td>\n",
       "      <td>COS-0205</td>\n",
       "      <td>COS-002-05-J1</td>\n",
       "      <td>COS-02-Right</td>\n",
       "      <td>COS-02</td>\n",
       "      <td>Non_Pneumonia</td>\n",
       "      <td>Sepsis</td>\n",
       "      <td>276.155172</td>\n",
       "      <td>28.293103</td>\n",
       "      <td>0.351050</td>\n",
       "      <td>Smooth Muscle Cell</td>\n",
       "      <td>Stromal</td>\n",
       "      <td>Smooth Muscle cell</td>\n",
       "      <td>HIV_Pos</td>\n",
       "      <td>Lymphoplasmacytic inflammation</td>\n",
       "      <td>Smooth Muscle cell</td>\n",
       "    </tr>\n",
       "    <tr>\n",
       "      <th>...</th>\n",
       "      <td>...</td>\n",
       "      <td>...</td>\n",
       "      <td>...</td>\n",
       "      <td>...</td>\n",
       "      <td>...</td>\n",
       "      <td>...</td>\n",
       "      <td>...</td>\n",
       "      <td>...</td>\n",
       "      <td>...</td>\n",
       "      <td>...</td>\n",
       "      <td>...</td>\n",
       "      <td>...</td>\n",
       "      <td>...</td>\n",
       "      <td>...</td>\n",
       "      <td>...</td>\n",
       "      <td>...</td>\n",
       "      <td>...</td>\n",
       "    </tr>\n",
       "    <tr>\n",
       "      <th>185615</th>\n",
       "      <td>185615</td>\n",
       "      <td>1607_3_C</td>\n",
       "      <td>COS-1607</td>\n",
       "      <td>COS-016-07-J1</td>\n",
       "      <td>COS-016-Left</td>\n",
       "      <td>COS-016</td>\n",
       "      <td>Non_Pneumonia</td>\n",
       "      <td>Stroke</td>\n",
       "      <td>75.571429</td>\n",
       "      <td>662.785714</td>\n",
       "      <td>0.184201</td>\n",
       "      <td>Macrophage</td>\n",
       "      <td>Myeloid</td>\n",
       "      <td>CD11c+ cell</td>\n",
       "      <td>HIV_Neg</td>\n",
       "      <td>No lung pathology</td>\n",
       "      <td>CD11c+ cell</td>\n",
       "    </tr>\n",
       "    <tr>\n",
       "      <th>185617</th>\n",
       "      <td>185617</td>\n",
       "      <td>1607_3_C</td>\n",
       "      <td>COS-1607</td>\n",
       "      <td>COS-016-07-J1</td>\n",
       "      <td>COS-016-Left</td>\n",
       "      <td>COS-016</td>\n",
       "      <td>Non_Pneumonia</td>\n",
       "      <td>Stroke</td>\n",
       "      <td>95.210526</td>\n",
       "      <td>666.000000</td>\n",
       "      <td>0.490538</td>\n",
       "      <td>Endothelium</td>\n",
       "      <td>Vascular</td>\n",
       "      <td>Endothelial cell</td>\n",
       "      <td>HIV_Neg</td>\n",
       "      <td>No lung pathology</td>\n",
       "      <td>Endothelial cell</td>\n",
       "    </tr>\n",
       "    <tr>\n",
       "      <th>185618</th>\n",
       "      <td>185618</td>\n",
       "      <td>1607_3_C</td>\n",
       "      <td>COS-1607</td>\n",
       "      <td>COS-016-07-J1</td>\n",
       "      <td>COS-016-Left</td>\n",
       "      <td>COS-016</td>\n",
       "      <td>Non_Pneumonia</td>\n",
       "      <td>Stroke</td>\n",
       "      <td>111.428571</td>\n",
       "      <td>666.457143</td>\n",
       "      <td>0.528906</td>\n",
       "      <td>Fibroblast</td>\n",
       "      <td>Stromal</td>\n",
       "      <td>Fibroblast</td>\n",
       "      <td>HIV_Neg</td>\n",
       "      <td>No lung pathology</td>\n",
       "      <td>Fibroblast</td>\n",
       "    </tr>\n",
       "    <tr>\n",
       "      <th>185622</th>\n",
       "      <td>185622</td>\n",
       "      <td>1607_3_C</td>\n",
       "      <td>COS-1607</td>\n",
       "      <td>COS-016-07-J1</td>\n",
       "      <td>COS-016-Left</td>\n",
       "      <td>COS-016</td>\n",
       "      <td>Non_Pneumonia</td>\n",
       "      <td>Stroke</td>\n",
       "      <td>103.750000</td>\n",
       "      <td>673.522727</td>\n",
       "      <td>0.077341</td>\n",
       "      <td>CD8 cells</td>\n",
       "      <td>Lymphoid</td>\n",
       "      <td>EM CD8 T cell</td>\n",
       "      <td>HIV_Neg</td>\n",
       "      <td>No lung pathology</td>\n",
       "      <td>EM CD8 T cell</td>\n",
       "    </tr>\n",
       "    <tr>\n",
       "      <th>185636</th>\n",
       "      <td>185636</td>\n",
       "      <td>1607_3_C</td>\n",
       "      <td>COS-1607</td>\n",
       "      <td>COS-016-07-J1</td>\n",
       "      <td>COS-016-Left</td>\n",
       "      <td>COS-016</td>\n",
       "      <td>Non_Pneumonia</td>\n",
       "      <td>Stroke</td>\n",
       "      <td>578.047619</td>\n",
       "      <td>685.214286</td>\n",
       "      <td>0.023767</td>\n",
       "      <td>B cells</td>\n",
       "      <td>Lymphoid</td>\n",
       "      <td>B cell</td>\n",
       "      <td>HIV_Neg</td>\n",
       "      <td>No lung pathology</td>\n",
       "      <td>B cell</td>\n",
       "    </tr>\n",
       "  </tbody>\n",
       "</table>\n",
       "<p>76369 rows × 17 columns</p>\n",
       "</div>"
      ],
      "text/plain": [
       "        Master_Index       ROI     TMAID         CaseID         Region  \\\n",
       "18                18  0205_1_A  COS-0205  COS-002-05-J1  COS-02-Right    \n",
       "28                28  0205_1_A  COS-0205  COS-002-05-J1  COS-02-Right    \n",
       "30                30  0205_1_A  COS-0205  COS-002-05-J1  COS-02-Right    \n",
       "31                31  0205_1_A  COS-0205  COS-002-05-J1  COS-02-Right    \n",
       "34                34  0205_1_A  COS-0205  COS-002-05-J1  COS-02-Right    \n",
       "...              ...       ...       ...            ...            ...   \n",
       "185615        185615  1607_3_C  COS-1607  COS-016-07-J1  COS-016-Left    \n",
       "185617        185617  1607_3_C  COS-1607  COS-016-07-J1  COS-016-Left    \n",
       "185618        185618  1607_3_C  COS-1607  COS-016-07-J1  COS-016-Left    \n",
       "185622        185622  1607_3_C  COS-1607  COS-016-07-J1  COS-016-Left    \n",
       "185636        185636  1607_3_C  COS-1607  COS-016-07-J1  COS-016-Left    \n",
       "\n",
       "        Patient          Group Diagnosis       X_loc       Y_loc  \\\n",
       "18       COS-02  Non_Pneumonia    Sepsis  208.923077   16.423077   \n",
       "28       COS-02  Non_Pneumonia    Sepsis  155.384615   26.615385   \n",
       "30       COS-02  Non_Pneumonia    Sepsis  284.500000   27.500000   \n",
       "31       COS-02  Non_Pneumonia    Sepsis  290.500000   28.000000   \n",
       "34       COS-02  Non_Pneumonia    Sepsis  276.155172   28.293103   \n",
       "...         ...            ...       ...         ...         ...   \n",
       "185615  COS-016  Non_Pneumonia    Stroke   75.571429  662.785714   \n",
       "185617  COS-016  Non_Pneumonia    Stroke   95.210526  666.000000   \n",
       "185618  COS-016  Non_Pneumonia    Stroke  111.428571  666.457143   \n",
       "185622  COS-016  Non_Pneumonia    Stroke  103.750000  673.522727   \n",
       "185636  COS-016  Non_Pneumonia    Stroke  578.047619  685.214286   \n",
       "\n",
       "        umap_density_Group           cell_type hierarchy        pheno_cluster  \\\n",
       "18                0.320959          Macrophage   Myeloid  Alveolar Macrophage   \n",
       "28                0.329502          Fibroblast   Stromal           Fibroblast   \n",
       "30                0.244718  Smooth Muscle Cell   Stromal   Smooth Muscle cell   \n",
       "31                0.231831  Smooth Muscle Cell   Stromal   Smooth Muscle cell   \n",
       "34                0.351050  Smooth Muscle Cell   Stromal   Smooth Muscle cell   \n",
       "...                    ...                 ...       ...                  ...   \n",
       "185615            0.184201          Macrophage   Myeloid          CD11c+ cell   \n",
       "185617            0.490538         Endothelium  Vascular     Endothelial cell   \n",
       "185618            0.528906          Fibroblast   Stromal           Fibroblast   \n",
       "185622            0.077341           CD8 cells  Lymphoid        EM CD8 T cell   \n",
       "185636            0.023767             B cells  Lymphoid               B cell   \n",
       "\n",
       "            HIV                           Histo    pheno_cluster_new  \n",
       "18      HIV_Pos  Lymphoplasmacytic inflammation  Alveolar Macrophage  \n",
       "28      HIV_Pos  Lymphoplasmacytic inflammation           Fibroblast  \n",
       "30      HIV_Pos  Lymphoplasmacytic inflammation   Smooth Muscle cell  \n",
       "31      HIV_Pos  Lymphoplasmacytic inflammation   Smooth Muscle cell  \n",
       "34      HIV_Pos  Lymphoplasmacytic inflammation   Smooth Muscle cell  \n",
       "...         ...                             ...                  ...  \n",
       "185615  HIV_Neg               No lung pathology          CD11c+ cell  \n",
       "185617  HIV_Neg               No lung pathology     Endothelial cell  \n",
       "185618  HIV_Neg               No lung pathology           Fibroblast  \n",
       "185622  HIV_Neg               No lung pathology        EM CD8 T cell  \n",
       "185636  HIV_Neg               No lung pathology               B cell  \n",
       "\n",
       "[76369 rows x 17 columns]"
      ]
     },
     "execution_count": 6,
     "metadata": {},
     "output_type": "execute_result"
    }
   ],
   "source": [
    "adata_subset2.obs"
   ]
  },
  {
   "cell_type": "code",
   "execution_count": 7,
   "id": "abc089d3",
   "metadata": {},
   "outputs": [],
   "source": [
    "#Re-annotation of the histo annotations\n",
    "\n",
    "histo_dict = pd.read_csv('mikeimc_approach/Dictionaries/covid_histo_anno_new_dict.csv')\n",
    "ep = histo_dict.set_index('Histo').to_dict()\n",
    "\n",
    "adata_subset2.obs['Histo_new']=adata_subset2.obs['Histo'].map(ep['Histo_new'])\n",
    "\n",
    "adata_subset2.obs['Histo_new']=adata_subset2.obs['Histo_new'].astype('category')\n"
   ]
  },
  {
   "cell_type": "code",
   "execution_count": 8,
   "id": "7e693fbd",
   "metadata": {
    "scrolled": true
   },
   "outputs": [
    {
     "data": {
      "text/plain": [
       "18        Lymphoplasmacytic inflammation\n",
       "28        Lymphoplasmacytic inflammation\n",
       "30        Lymphoplasmacytic inflammation\n",
       "31        Lymphoplasmacytic inflammation\n",
       "34        Lymphoplasmacytic inflammation\n",
       "                       ...              \n",
       "185615                 No lung pathology\n",
       "185617                 No lung pathology\n",
       "185618                 No lung pathology\n",
       "185622                 No lung pathology\n",
       "185636                 No lung pathology\n",
       "Name: Histo_new, Length: 76369, dtype: category\n",
       "Categories (13, object): ['Cancer', 'DAD with alveolar macrophages', 'DAD with alveolar macrophages and fibrin', 'DAD with fibrin', ..., 'Lymphoplasmacytic inflammation', 'No lung pathology', 'No tissue', 'T2H']"
      ]
     },
     "execution_count": 8,
     "metadata": {},
     "output_type": "execute_result"
    }
   ],
   "source": [
    "adata_subset2.obs['Histo_new']"
   ]
  },
  {
   "cell_type": "code",
   "execution_count": 9,
   "id": "008dfe1c",
   "metadata": {},
   "outputs": [],
   "source": [
    "# Exclude RBCs\n",
    "ad_subset2 = adata_subset2[~adata_subset2.obs['cell_type'].isin(['RBCs']),:].copy()"
   ]
  },
  {
   "cell_type": "code",
   "execution_count": 10,
   "id": "2dc66b89",
   "metadata": {},
   "outputs": [],
   "source": [
    "# Exclude some of the histo lesions\n",
    "ad_subset2 = ad_subset2[~ad_subset2.obs['Histo_new'].isin(['Lymphocytes and macrophages', 'Cancer', 'No tissue']),:].copy()"
   ]
  },
  {
   "cell_type": "code",
   "execution_count": 11,
   "id": "ae1fd076",
   "metadata": {},
   "outputs": [
    {
     "data": {
      "text/plain": [
       "18        Lymphoplasmacytic inflammation\n",
       "28        Lymphoplasmacytic inflammation\n",
       "30        Lymphoplasmacytic inflammation\n",
       "31        Lymphoplasmacytic inflammation\n",
       "34        Lymphoplasmacytic inflammation\n",
       "                       ...              \n",
       "185615                 No lung pathology\n",
       "185617                 No lung pathology\n",
       "185618                 No lung pathology\n",
       "185622                 No lung pathology\n",
       "185636                 No lung pathology\n",
       "Name: Histo_new, Length: 64337, dtype: category\n",
       "Categories (10, object): ['DAD with alveolar macrophages', 'DAD with alveolar macrophages and fibrin', 'DAD with fibrin', 'DAD with fibrinopurulent inflammation', ..., 'Haemorrhagic DAD with thrombi', 'Lymphoplasmacytic inflammation', 'No lung pathology', 'T2H']"
      ]
     },
     "execution_count": 11,
     "metadata": {},
     "output_type": "execute_result"
    }
   ],
   "source": [
    "ad_subset2.obs['Histo_new']"
   ]
  },
  {
   "cell_type": "code",
   "execution_count": 61,
   "id": "9e3b2bee",
   "metadata": {},
   "outputs": [
    {
     "data": {
      "text/plain": [
       "18        Alveolar Macrophage\n",
       "28                 Fibroblast\n",
       "30         Smooth Muscle cell\n",
       "31         Smooth Muscle cell\n",
       "34         Smooth Muscle cell\n",
       "                 ...         \n",
       "185615            CD11c+ cell\n",
       "185617       Endothelial cell\n",
       "185618             Fibroblast\n",
       "185622          EM CD8 T cell\n",
       "185636                 B cell\n",
       "Name: pheno_cluster_new, Length: 64337, dtype: category\n",
       "Categories (32, object): ['AT2 cell', 'Activated Endothelial cell', 'Alveolar Macrophage', 'Apoptotic Alveolar Macrophage', ..., 'SARSCoV2+ ArginaseHighVISTAHigh Activated Neu..., 'SARSCoV2+ Epithelial cell', 'SARSCoV2+ Interstitial Macrophage', 'Smooth Muscle cell']"
      ]
     },
     "execution_count": 61,
     "metadata": {},
     "output_type": "execute_result"
    }
   ],
   "source": [
    "ad_subset2.obs['pheno_cluster_new']"
   ]
  },
  {
   "cell_type": "code",
   "execution_count": null,
   "id": "01090874",
   "metadata": {},
   "outputs": [],
   "source": [
    "COVID = ad_subset2[ad_subset2.obs['Group'].isin(['COVID-19']),:].copy()"
   ]
  },
  {
   "cell_type": "code",
   "execution_count": null,
   "id": "961393ac",
   "metadata": {},
   "outputs": [],
   "source": [
    "COVID"
   ]
  },
  {
   "cell_type": "code",
   "execution_count": null,
   "id": "3dbe581d",
   "metadata": {},
   "outputs": [],
   "source": [
    "COVID.obs['Variant'] = adata_COVID.obs['Variant']"
   ]
  },
  {
   "cell_type": "code",
   "execution_count": null,
   "id": "fc271636",
   "metadata": {
    "scrolled": true
   },
   "outputs": [],
   "source": [
    "COVID.obs['Histo_new']"
   ]
  },
  {
   "cell_type": "code",
   "execution_count": 75,
   "id": "5980b896",
   "metadata": {},
   "outputs": [],
   "source": [
    "# Split the composition plot per lesion into immune and stromal compartments.\n",
    "\n",
    "adata_subset2_immune = adata_subset2[adata_subset2.obs['hierarchy'].isin(['Lymphoid', 'Myeloid']),:].copy()\n",
    "adata_subset2_stromal = adata_subset2[adata_subset2.obs['hierarchy'].isin(['Stromal', 'Vascular']),:].copy()"
   ]
  },
  {
   "cell_type": "code",
   "execution_count": null,
   "id": "358dc87d",
   "metadata": {},
   "outputs": [],
   "source": [
    "tmp = pd.crosstab(ad_covid.obs['Histo'],ad_covid.obs['HIV'], margins=False, margins_name='Total', normalize='columns')"
   ]
  },
  {
   "cell_type": "code",
   "execution_count": 79,
   "id": "c86785da",
   "metadata": {},
   "outputs": [],
   "source": [
    "tmp = pd.crosstab(adata_subset2_stromal.obs['pheno_cluster_new'],adata_subset2_stromal.obs['Histo_new'], margins=False, margins_name='Total', normalize='columns')"
   ]
  },
  {
   "cell_type": "code",
   "execution_count": 13,
   "id": "669255e9",
   "metadata": {},
   "outputs": [],
   "source": [
    "tmp = pd.crosstab(ad_subset2.obs['Histo_new'],ad_subset2.obs['Group'], margins=False, margins_name='Total', normalize='columns')"
   ]
  },
  {
   "cell_type": "code",
   "execution_count": 14,
   "id": "d3184180",
   "metadata": {},
   "outputs": [
    {
     "data": {
      "text/html": [
       "<div>\n",
       "<style scoped>\n",
       "    .dataframe tbody tr th:only-of-type {\n",
       "        vertical-align: middle;\n",
       "    }\n",
       "\n",
       "    .dataframe tbody tr th {\n",
       "        vertical-align: top;\n",
       "    }\n",
       "\n",
       "    .dataframe thead th {\n",
       "        text-align: right;\n",
       "    }\n",
       "</style>\n",
       "<table border=\"1\" class=\"dataframe\">\n",
       "  <thead>\n",
       "    <tr style=\"text-align: right;\">\n",
       "      <th>Group</th>\n",
       "      <th>COVID-19</th>\n",
       "      <th>Non_Pneumonia</th>\n",
       "      <th>Pneumonia</th>\n",
       "    </tr>\n",
       "    <tr>\n",
       "      <th>Histo_new</th>\n",
       "      <th></th>\n",
       "      <th></th>\n",
       "      <th></th>\n",
       "    </tr>\n",
       "  </thead>\n",
       "  <tbody>\n",
       "    <tr>\n",
       "      <th>DAD with alveolar macrophages</th>\n",
       "      <td>0.076115</td>\n",
       "      <td>0.000000</td>\n",
       "      <td>0.000000</td>\n",
       "    </tr>\n",
       "    <tr>\n",
       "      <th>DAD with alveolar macrophages and fibrin</th>\n",
       "      <td>0.015580</td>\n",
       "      <td>0.000000</td>\n",
       "      <td>0.000000</td>\n",
       "    </tr>\n",
       "    <tr>\n",
       "      <th>DAD with fibrin</th>\n",
       "      <td>0.097293</td>\n",
       "      <td>0.000000</td>\n",
       "      <td>0.014601</td>\n",
       "    </tr>\n",
       "    <tr>\n",
       "      <th>DAD with fibrinopurulent inflammation</th>\n",
       "      <td>0.045153</td>\n",
       "      <td>0.000000</td>\n",
       "      <td>0.879889</td>\n",
       "    </tr>\n",
       "    <tr>\n",
       "      <th>Fibrosis</th>\n",
       "      <td>0.362099</td>\n",
       "      <td>0.000000</td>\n",
       "      <td>0.041804</td>\n",
       "    </tr>\n",
       "    <tr>\n",
       "      <th>Haemorrhages</th>\n",
       "      <td>0.000000</td>\n",
       "      <td>0.082550</td>\n",
       "      <td>0.000000</td>\n",
       "    </tr>\n",
       "    <tr>\n",
       "      <th>Haemorrhagic DAD with thrombi</th>\n",
       "      <td>0.031101</td>\n",
       "      <td>0.000000</td>\n",
       "      <td>0.000000</td>\n",
       "    </tr>\n",
       "    <tr>\n",
       "      <th>Lymphoplasmacytic inflammation</th>\n",
       "      <td>0.013854</td>\n",
       "      <td>0.087045</td>\n",
       "      <td>0.000000</td>\n",
       "    </tr>\n",
       "    <tr>\n",
       "      <th>No lung pathology</th>\n",
       "      <td>0.160666</td>\n",
       "      <td>0.830405</td>\n",
       "      <td>0.063706</td>\n",
       "    </tr>\n",
       "    <tr>\n",
       "      <th>T2H</th>\n",
       "      <td>0.198138</td>\n",
       "      <td>0.000000</td>\n",
       "      <td>0.000000</td>\n",
       "    </tr>\n",
       "  </tbody>\n",
       "</table>\n",
       "</div>"
      ],
      "text/plain": [
       "Group                                     COVID-19  Non_Pneumonia  Pneumonia\n",
       "Histo_new                                                                   \n",
       "DAD with alveolar macrophages             0.076115       0.000000   0.000000\n",
       "DAD with alveolar macrophages and fibrin  0.015580       0.000000   0.000000\n",
       "DAD with fibrin                           0.097293       0.000000   0.014601\n",
       "DAD with fibrinopurulent inflammation     0.045153       0.000000   0.879889\n",
       "Fibrosis                                  0.362099       0.000000   0.041804\n",
       "Haemorrhages                              0.000000       0.082550   0.000000\n",
       "Haemorrhagic DAD with thrombi             0.031101       0.000000   0.000000\n",
       "Lymphoplasmacytic inflammation            0.013854       0.087045   0.000000\n",
       "No lung pathology                         0.160666       0.830405   0.063706\n",
       "T2H                                       0.198138       0.000000   0.000000"
      ]
     },
     "execution_count": 14,
     "metadata": {},
     "output_type": "execute_result"
    }
   ],
   "source": [
    "tmp"
   ]
  },
  {
   "cell_type": "code",
   "execution_count": 67,
   "id": "82b764ac",
   "metadata": {},
   "outputs": [],
   "source": [
    "tmp2 = tmp.reindex(['SARSCoV2+ Interstitial Macrophage', 'Apoptotic SARSCoV2+  Alveolar Macrophage', 'SARSCoV2+ ArginaseHighVISTAHigh Activated Neutrophil', \n",
    "                    'Classical Monocyte',  'CD11c+ cell', 'ArginaseLowVISTALow Neutrophil', 'ArginaseLowVISTALow Activated Neutrophil', \n",
    "                    'ArginaseHighVISTAHigh Activated Neutrophil', 'Alveolar Macrophage', 'Apoptotic Alveolar Macrophage', 'Interstitial Macrophage', \n",
    "                    'Proliferating Interstitial Macrophage', 'EM CD4 T cell', 'Proliferative CD4 T cell', 'CD4 Treg cell', 'CD8 T cell', 'EM CD8 T cell', \n",
    "                    'Proliferative CD8 T cell' , 'CD3+ cell', 'B cell'])"
   ]
  },
  {
   "cell_type": "code",
   "execution_count": 81,
   "id": "5a8d6ae5",
   "metadata": {},
   "outputs": [],
   "source": [
    "tmp2 = tmp.reindex(['SARSCoV2+ Epithelial cell', 'SARSCoV2+ AT2 cell',\n",
    "                    'Activated Endothelial cell', 'Fibroblast', 'Proliferative Fibroblast', 'Apoptotic Fibroblast',  \n",
    "                     'AT2 cell', 'Epithelial cell' , 'Proliferative Epithelial cell',\n",
    "                   'Endothelial cell', 'Proliferative Endothelial cell', 'Smooth Muscle cell', 'RBC'])"
   ]
  },
  {
   "cell_type": "code",
   "execution_count": 15,
   "id": "61f95fd7",
   "metadata": {},
   "outputs": [],
   "source": [
    "tmp2 = tmp.reindex(['T2H', 'DAD with alveolar macrophages', \n",
    "                     'DAD with alveolar macrophages and fibrin',\n",
    "                     'DAD with fibrin', 'DAD with fibrinopurulent inflammation', 'Fibrosis', \n",
    "                   'Haemorrhages', 'Haemorrhagic DAD with thrombi',\n",
    "                   'Lymphoplasmacytic inflammation',\n",
    "                   'No lung pathology'])"
   ]
  },
  {
   "cell_type": "code",
   "execution_count": 16,
   "id": "bdc87601",
   "metadata": {
    "scrolled": true
   },
   "outputs": [
    {
     "data": {
      "text/html": [
       "<div>\n",
       "<style scoped>\n",
       "    .dataframe tbody tr th:only-of-type {\n",
       "        vertical-align: middle;\n",
       "    }\n",
       "\n",
       "    .dataframe tbody tr th {\n",
       "        vertical-align: top;\n",
       "    }\n",
       "\n",
       "    .dataframe thead th {\n",
       "        text-align: right;\n",
       "    }\n",
       "</style>\n",
       "<table border=\"1\" class=\"dataframe\">\n",
       "  <thead>\n",
       "    <tr style=\"text-align: right;\">\n",
       "      <th>Group</th>\n",
       "      <th>COVID-19</th>\n",
       "      <th>Non_Pneumonia</th>\n",
       "      <th>Pneumonia</th>\n",
       "    </tr>\n",
       "    <tr>\n",
       "      <th>Histo_new</th>\n",
       "      <th></th>\n",
       "      <th></th>\n",
       "      <th></th>\n",
       "    </tr>\n",
       "  </thead>\n",
       "  <tbody>\n",
       "    <tr>\n",
       "      <th>T2H</th>\n",
       "      <td>0.198138</td>\n",
       "      <td>0.000000</td>\n",
       "      <td>0.000000</td>\n",
       "    </tr>\n",
       "    <tr>\n",
       "      <th>DAD with alveolar macrophages</th>\n",
       "      <td>0.076115</td>\n",
       "      <td>0.000000</td>\n",
       "      <td>0.000000</td>\n",
       "    </tr>\n",
       "    <tr>\n",
       "      <th>DAD with alveolar macrophages and fibrin</th>\n",
       "      <td>0.015580</td>\n",
       "      <td>0.000000</td>\n",
       "      <td>0.000000</td>\n",
       "    </tr>\n",
       "    <tr>\n",
       "      <th>DAD with fibrin</th>\n",
       "      <td>0.097293</td>\n",
       "      <td>0.000000</td>\n",
       "      <td>0.014601</td>\n",
       "    </tr>\n",
       "    <tr>\n",
       "      <th>DAD with fibrinopurulent inflammation</th>\n",
       "      <td>0.045153</td>\n",
       "      <td>0.000000</td>\n",
       "      <td>0.879889</td>\n",
       "    </tr>\n",
       "    <tr>\n",
       "      <th>Fibrosis</th>\n",
       "      <td>0.362099</td>\n",
       "      <td>0.000000</td>\n",
       "      <td>0.041804</td>\n",
       "    </tr>\n",
       "    <tr>\n",
       "      <th>Haemorrhages</th>\n",
       "      <td>0.000000</td>\n",
       "      <td>0.082550</td>\n",
       "      <td>0.000000</td>\n",
       "    </tr>\n",
       "    <tr>\n",
       "      <th>Haemorrhagic DAD with thrombi</th>\n",
       "      <td>0.031101</td>\n",
       "      <td>0.000000</td>\n",
       "      <td>0.000000</td>\n",
       "    </tr>\n",
       "    <tr>\n",
       "      <th>Lymphoplasmacytic inflammation</th>\n",
       "      <td>0.013854</td>\n",
       "      <td>0.087045</td>\n",
       "      <td>0.000000</td>\n",
       "    </tr>\n",
       "    <tr>\n",
       "      <th>No lung pathology</th>\n",
       "      <td>0.160666</td>\n",
       "      <td>0.830405</td>\n",
       "      <td>0.063706</td>\n",
       "    </tr>\n",
       "  </tbody>\n",
       "</table>\n",
       "</div>"
      ],
      "text/plain": [
       "Group                                     COVID-19  Non_Pneumonia  Pneumonia\n",
       "Histo_new                                                                   \n",
       "T2H                                       0.198138       0.000000   0.000000\n",
       "DAD with alveolar macrophages             0.076115       0.000000   0.000000\n",
       "DAD with alveolar macrophages and fibrin  0.015580       0.000000   0.000000\n",
       "DAD with fibrin                           0.097293       0.000000   0.014601\n",
       "DAD with fibrinopurulent inflammation     0.045153       0.000000   0.879889\n",
       "Fibrosis                                  0.362099       0.000000   0.041804\n",
       "Haemorrhages                              0.000000       0.082550   0.000000\n",
       "Haemorrhagic DAD with thrombi             0.031101       0.000000   0.000000\n",
       "Lymphoplasmacytic inflammation            0.013854       0.087045   0.000000\n",
       "No lung pathology                         0.160666       0.830405   0.063706"
      ]
     },
     "execution_count": 16,
     "metadata": {},
     "output_type": "execute_result"
    }
   ],
   "source": [
    "tmp2"
   ]
  },
  {
   "cell_type": "code",
   "execution_count": 86,
   "id": "aef15ad3",
   "metadata": {},
   "outputs": [],
   "source": [
    "tmp3 = tmp2.reindex(index=tmp2.index[::-1])"
   ]
  },
  {
   "cell_type": "code",
   "execution_count": 17,
   "id": "d6d235d9",
   "metadata": {},
   "outputs": [],
   "source": [
    "tmp4 = pd.DataFrame.transpose(tmp2)"
   ]
  },
  {
   "cell_type": "code",
   "execution_count": 18,
   "id": "dd82f18f",
   "metadata": {},
   "outputs": [
    {
     "data": {
      "text/html": [
       "<div>\n",
       "<style scoped>\n",
       "    .dataframe tbody tr th:only-of-type {\n",
       "        vertical-align: middle;\n",
       "    }\n",
       "\n",
       "    .dataframe tbody tr th {\n",
       "        vertical-align: top;\n",
       "    }\n",
       "\n",
       "    .dataframe thead th {\n",
       "        text-align: right;\n",
       "    }\n",
       "</style>\n",
       "<table border=\"1\" class=\"dataframe\">\n",
       "  <thead>\n",
       "    <tr style=\"text-align: right;\">\n",
       "      <th>Histo_new</th>\n",
       "      <th>T2H</th>\n",
       "      <th>DAD with alveolar macrophages</th>\n",
       "      <th>DAD with alveolar macrophages and fibrin</th>\n",
       "      <th>DAD with fibrin</th>\n",
       "      <th>DAD with fibrinopurulent inflammation</th>\n",
       "      <th>Fibrosis</th>\n",
       "      <th>Haemorrhages</th>\n",
       "      <th>Haemorrhagic DAD with thrombi</th>\n",
       "      <th>Lymphoplasmacytic inflammation</th>\n",
       "      <th>No lung pathology</th>\n",
       "    </tr>\n",
       "    <tr>\n",
       "      <th>Group</th>\n",
       "      <th></th>\n",
       "      <th></th>\n",
       "      <th></th>\n",
       "      <th></th>\n",
       "      <th></th>\n",
       "      <th></th>\n",
       "      <th></th>\n",
       "      <th></th>\n",
       "      <th></th>\n",
       "      <th></th>\n",
       "    </tr>\n",
       "  </thead>\n",
       "  <tbody>\n",
       "    <tr>\n",
       "      <th>COVID-19</th>\n",
       "      <td>0.198138</td>\n",
       "      <td>0.076115</td>\n",
       "      <td>0.01558</td>\n",
       "      <td>0.097293</td>\n",
       "      <td>0.045153</td>\n",
       "      <td>0.362099</td>\n",
       "      <td>0.00000</td>\n",
       "      <td>0.031101</td>\n",
       "      <td>0.013854</td>\n",
       "      <td>0.160666</td>\n",
       "    </tr>\n",
       "    <tr>\n",
       "      <th>Non_Pneumonia</th>\n",
       "      <td>0.000000</td>\n",
       "      <td>0.000000</td>\n",
       "      <td>0.00000</td>\n",
       "      <td>0.000000</td>\n",
       "      <td>0.000000</td>\n",
       "      <td>0.000000</td>\n",
       "      <td>0.08255</td>\n",
       "      <td>0.000000</td>\n",
       "      <td>0.087045</td>\n",
       "      <td>0.830405</td>\n",
       "    </tr>\n",
       "    <tr>\n",
       "      <th>Pneumonia</th>\n",
       "      <td>0.000000</td>\n",
       "      <td>0.000000</td>\n",
       "      <td>0.00000</td>\n",
       "      <td>0.014601</td>\n",
       "      <td>0.879889</td>\n",
       "      <td>0.041804</td>\n",
       "      <td>0.00000</td>\n",
       "      <td>0.000000</td>\n",
       "      <td>0.000000</td>\n",
       "      <td>0.063706</td>\n",
       "    </tr>\n",
       "  </tbody>\n",
       "</table>\n",
       "</div>"
      ],
      "text/plain": [
       "Histo_new           T2H  DAD with alveolar macrophages  \\\n",
       "Group                                                    \n",
       "COVID-19       0.198138                       0.076115   \n",
       "Non_Pneumonia  0.000000                       0.000000   \n",
       "Pneumonia      0.000000                       0.000000   \n",
       "\n",
       "Histo_new      DAD with alveolar macrophages and fibrin  DAD with fibrin  \\\n",
       "Group                                                                      \n",
       "COVID-19                                        0.01558         0.097293   \n",
       "Non_Pneumonia                                   0.00000         0.000000   \n",
       "Pneumonia                                       0.00000         0.014601   \n",
       "\n",
       "Histo_new      DAD with fibrinopurulent inflammation  Fibrosis  Haemorrhages  \\\n",
       "Group                                                                          \n",
       "COVID-19                                    0.045153  0.362099       0.00000   \n",
       "Non_Pneumonia                               0.000000  0.000000       0.08255   \n",
       "Pneumonia                                   0.879889  0.041804       0.00000   \n",
       "\n",
       "Histo_new      Haemorrhagic DAD with thrombi  Lymphoplasmacytic inflammation  \\\n",
       "Group                                                                          \n",
       "COVID-19                            0.031101                        0.013854   \n",
       "Non_Pneumonia                       0.000000                        0.087045   \n",
       "Pneumonia                           0.000000                        0.000000   \n",
       "\n",
       "Histo_new      No lung pathology  \n",
       "Group                             \n",
       "COVID-19                0.160666  \n",
       "Non_Pneumonia           0.830405  \n",
       "Pneumonia               0.063706  "
      ]
     },
     "execution_count": 18,
     "metadata": {},
     "output_type": "execute_result"
    }
   ],
   "source": [
    "tmp4"
   ]
  },
  {
   "cell_type": "code",
   "execution_count": null,
   "id": "6a4e2f57",
   "metadata": {},
   "outputs": [],
   "source": [
    "#tmp5 = tmp4.reindex(['T2H', 'DAD with alveolar macrophages', \n",
    "                     'DAD with alveolar macrophages and fibrin',\n",
    "                     'DAD with fibrin', 'DAD with fibrinopurulent inflammation', 'Fibrosis', \n",
    "                   'Haemorrhages', 'Haemorrhagic DAD with thrombi',\n",
    "                   'Lymphoplasmacytic inflammation',\n",
    "                   'No lung pathology'])"
   ]
  },
  {
   "cell_type": "code",
   "execution_count": null,
   "id": "6c5ef823",
   "metadata": {
    "scrolled": true
   },
   "outputs": [],
   "source": [
    "#tmp5"
   ]
  },
  {
   "cell_type": "code",
   "execution_count": 21,
   "id": "2da450f7",
   "metadata": {},
   "outputs": [],
   "source": [
    "tmp5 = tmp4.reindex(['Non_Pneumonia', 'COVID-19', 'Pneumonia'])"
   ]
  },
  {
   "cell_type": "code",
   "execution_count": 27,
   "id": "2db87790",
   "metadata": {
    "scrolled": true
   },
   "outputs": [
    {
     "data": {
      "image/png": "[encoded data removed]",
      "text/plain": [
       "<Figure size 400x400 with 1 Axes>"
      ]
     },
     "metadata": {
      "image/png": {
       "height": 375,
       "width": 741
      }
     },
     "output_type": "display_data"
    }
   ],
   "source": [
    "#color for stack bars for the disease groups matching the other bar graphs\n",
    "#F08080 - light coral\n",
    "#87CEFA - lightskyblue\n",
    "#D3D3D3 - lightgrey\n",
    "\n",
    "pretty_colors = ['#F08080','#87CEFA','#D3D3D3']\n",
    "color_pal = sb.color_palette('Paired')\n",
    "#colour_palette['colour']\n",
    "\n",
    "#sb.set_style(\"whitegrid\", {'axes.grid' : True})\n",
    "tmp5.plot.bar(stacked=True, color=color_pal, figsize=(4, 4), rot=0).legend(bbox_to_anchor=(1, 1))\n",
    "plt.savefig(\"Frequency_histo_annotations_group.pdf\", format=\"pdf\", bbox_inches=\"tight\")"
   ]
  },
  {
   "cell_type": "markdown",
   "id": "6b6ee1fe",
   "metadata": {},
   "source": [
    "Frequency of lesions per clinical condition"
   ]
  },
  {
   "cell_type": "code",
   "execution_count": null,
   "id": "c3699ba7",
   "metadata": {},
   "outputs": [],
   "source": [
    "# Split the composition plot per lesion into immune and stromal compartments."
   ]
  },
  {
   "cell_type": "code",
   "execution_count": null,
   "id": "7cdd2748",
   "metadata": {},
   "outputs": [],
   "source": []
  },
  {
   "cell_type": "code",
   "execution_count": null,
   "id": "26264c9d",
   "metadata": {},
   "outputs": [],
   "source": []
  },
  {
   "cell_type": "markdown",
   "id": "be4956bc",
   "metadata": {},
   "source": [
    "Frequency of lesions in beta vs delta"
   ]
  },
  {
   "cell_type": "code",
   "execution_count": null,
   "id": "18df5b49",
   "metadata": {},
   "outputs": [],
   "source": [
    "# Add beta and delta info in the adata\n",
    "# Split the composition plot per lesion into immune and stromal compartments.\n",
    "\n"
   ]
  },
  {
   "cell_type": "code",
   "execution_count": null,
   "id": "c7b63f62",
   "metadata": {},
   "outputs": [],
   "source": []
  },
  {
   "cell_type": "code",
   "execution_count": null,
   "id": "c8282cae",
   "metadata": {},
   "outputs": [],
   "source": []
  },
  {
   "cell_type": "code",
   "execution_count": null,
   "id": "3be7cb79",
   "metadata": {},
   "outputs": [],
   "source": []
  }
 ],
 "metadata": {
  "kernelspec": {
   "display_name": "Python 3 (ipykernel)",
   "language": "python",
   "name": "python3"
  },
  "language_info": {
   "codemirror_mode": {
    "name": "ipython",
    "version": 3
   },
   "file_extension": ".py",
   "mimetype": "text/x-python",
   "name": "python",
   "nbconvert_exporter": "python",
   "pygments_lexer": "ipython3",
   "version": "3.9.16"
  }
 },
 "nbformat": 4,
 "nbformat_minor": 5
}

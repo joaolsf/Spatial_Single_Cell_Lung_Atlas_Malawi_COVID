{
 "cells": [
  {
   "cell_type": "markdown",
   "id": "f93400a9",
   "metadata": {},
   "source": [
    "# Import libraries and setup"
   ]
  },
  {
   "cell_type": "code",
   "execution_count": null,
   "id": "389cfa0b",
   "metadata": {
    "scrolled": true
   },
   "outputs": [],
   "source": [
    "# Import libraries we may need\n",
    "import scanpy as sc\n",
    "import numpy as np\n",
    "import scipy as sp\n",
    "import pandas as pd\n",
    "import matplotlib.pyplot as plt\n",
    "from matplotlib import rcParams\n",
    "from matplotlib import colors\n",
    "import seaborn as sb\n",
    "import scanpy.external as sce\n",
    "import wget\n",
    "import yaml\n",
    "import wget\n",
    "import astir\n",
    "import dill\n",
    "import umap.umap_ as umap\n",
    "reducer = umap.UMAP()\n",
    "import statsmodels as sm\n",
    "import anndata as ad\n",
    "\n",
    "#Packages to do Elbow analysis\n",
    "from sklearn.cluster import KMeans\n",
    "from yellowbrick.cluster import KElbowVisualizer\n",
    "\n",
    "#To display multiple dataframes in same output\n",
    "from IPython.display import display\n",
    "\n",
    "#Loading bar functionality for long tasks\n",
    "from tqdm import tqdm\n",
    "\n",
    "#For multiprocessing\n",
    "from functools import partial\n",
    "from multiprocessing import Pool\n",
    "\n",
    "#import imc_import\n",
    "#import utils\n",
    "#import pop_id\n"
   ]
  },
  {
   "cell_type": "code",
   "execution_count": null,
   "id": "26a8b227",
   "metadata": {},
   "outputs": [],
   "source": [
    "# Set up output figure settings\n",
    "plt.rcParams['figure.figsize']=(64,64) #rescale figures, increase sizehere\n",
    "\n",
    "# Set up scanpy settings\n",
    "sc.settings.verbosity = 3\n",
    "sc.set_figure_params(dpi=100, dpi_save=300) #Increase DPI for better resolution figures\n",
    "#sc.logging.print_versions()"
   ]
  },
  {
   "cell_type": "markdown",
   "id": "dc0281c4",
   "metadata": {},
   "source": [
    "# Save / restore environemnt\n",
    "Use these functions to either save or load the environmental variables, otherwise you will lose all the objects between opening/closing Jupyter sessions!"
   ]
  },
  {
   "cell_type": "code",
   "execution_count": null,
   "id": "ecfe3dc8",
   "metadata": {},
   "outputs": [],
   "source": [
    "#load the session\n",
    "dill.load_session('DC_ASTIR_Pf_spleen_Malawi.db')"
   ]
  },
  {
   "cell_type": "code",
   "execution_count": null,
   "id": "591176c1",
   "metadata": {},
   "outputs": [],
   "source": [
    "#save the session\n",
    "dill.dump_session('DC_ASTIR_Pf_spleen_Malawi.db')"
   ]
  },
  {
   "cell_type": "markdown",
   "id": "200d775c",
   "metadata": {},
   "source": [
    "# Load/save anndata object"
   ]
  },
  {
   "cell_type": "markdown",
   "id": "1e67f8a3",
   "metadata": {},
   "source": [
    "Save adata object\n",
    "This will save the adata object in the current directory as a file called 'adata'"
   ]
  },
  {
   "cell_type": "markdown",
   "id": "38fbd8f0",
   "metadata": {},
   "source": [
    "Load adata\n",
    "This will open up a stored adata object (from the 'raw' directory)"
   ]
  },
  {
   "cell_type": "code",
   "execution_count": null,
   "id": "f5580631",
   "metadata": {},
   "outputs": [],
   "source": [
    "# Load the Malawi cohort - only covid cases\n",
    "adata_Malawi = ad.read_h5ad('./2_h5ad files/adata_COVID') #only covid cases included"
   ]
  },
  {
   "cell_type": "code",
   "execution_count": null,
   "id": "88da1ea4",
   "metadata": {
    "scrolled": true
   },
   "outputs": [],
   "source": [
    "adata_Malawi.obs['Group']"
   ]
  },
  {
   "cell_type": "code",
   "execution_count": null,
   "id": "8ad28d84",
   "metadata": {},
   "outputs": [],
   "source": [
    "# Load the Brazilian cohort - only covid cases\n",
    "adata_Brazil = ad.read_h5ad('./8_h5ad_files_Brazil_cohort/adata_subset4.h5ad') #control case removed"
   ]
  },
  {
   "cell_type": "code",
   "execution_count": null,
   "id": "befd5f60",
   "metadata": {},
   "outputs": [],
   "source": [
    "adata_Brazil.obs['Type']"
   ]
  },
  {
   "cell_type": "code",
   "execution_count": null,
   "id": "94f21fc3",
   "metadata": {},
   "outputs": [],
   "source": [
    "# Load the US cohort - only covid cases\n",
    "adata_US = ad.read_h5ad('./7_h5ad_files_US_cohort/adata_covid') #control cases included"
   ]
  },
  {
   "cell_type": "code",
   "execution_count": null,
   "id": "ba85eac8",
   "metadata": {},
   "outputs": [],
   "source": [
    "adata_US.obs['ROI']"
   ]
  },
  {
   "cell_type": "code",
   "execution_count": null,
   "id": "f2bf4f45",
   "metadata": {},
   "outputs": [],
   "source": [
    "#Add the cohort info as a column in .obs\n",
    "\n",
    "adata_Malawi.obs[\"Cohort\"] = \"Malawi\"\n",
    "adata_Brazil.obs[\"Cohort\"] = \"Brazil\"\n",
    "adata_US.obs[\"Cohort\"] = \"US\"\n"
   ]
  },
  {
   "cell_type": "markdown",
   "id": "5af8d52a",
   "metadata": {},
   "source": [
    "# Concatenate adatas\n",
    "\n",
    "https://anndata.readthedocs.io/en/latest/concatenation.html\n",
    "\n",
    "When the variables present in the objects to be concatenated aren’t exactly the same, you can choose to take either the intersection or union of these variables. This is otherwise called taking the \"inner\" (intersection) or \"outer\" (union) join."
   ]
  },
  {
   "cell_type": "code",
   "execution_count": null,
   "id": "4e12c784",
   "metadata": {},
   "outputs": [],
   "source": [
    "adata_list = adata_Malawi, adata_Brazil, adata_US"
   ]
  },
  {
   "cell_type": "code",
   "execution_count": null,
   "id": "323ddf2a",
   "metadata": {},
   "outputs": [],
   "source": [
    "adata_list"
   ]
  },
  {
   "cell_type": "code",
   "execution_count": null,
   "id": "479f8641",
   "metadata": {},
   "outputs": [],
   "source": [
    "#Try both methods\n",
    "adata = ad.concat(adata_list, join=\"inner\")\n",
    "#adata2 = ad.concat(adata_list, join=\"outer\")"
   ]
  },
  {
   "cell_type": "code",
   "execution_count": null,
   "id": "fe83c173",
   "metadata": {},
   "outputs": [],
   "source": [
    "adata.obs"
   ]
  },
  {
   "cell_type": "code",
   "execution_count": null,
   "id": "fc3f2db1",
   "metadata": {},
   "outputs": [],
   "source": [
    "# Save adatas\n",
    "adata.write('./2_h5ad files/adata_Malawi_Brazil_US_inner_integrated_covid')\n",
    "#adata2.write('./2_h5ad files/adata_Malawi_Brazil_US_outer_concatenated')"
   ]
  },
  {
   "cell_type": "code",
   "execution_count": null,
   "id": "f135cca3",
   "metadata": {
    "scrolled": true
   },
   "outputs": [],
   "source": [
    "adata = ad.read_h5ad('./2_h5ad files/adata_Malawi_Brazil_US_inner_integrated_covid') #all cases included\n",
    "#adata2 = ad.read_h5ad('./2_h5ad files/adata_Malawi_Brazil_US_outer_concatenated') #all cases included\n"
   ]
  },
  {
   "cell_type": "code",
   "execution_count": null,
   "id": "464c474b",
   "metadata": {},
   "outputs": [],
   "source": [
    "adata"
   ]
  },
  {
   "cell_type": "code",
   "execution_count": null,
   "id": "f0bd7670",
   "metadata": {},
   "outputs": [],
   "source": [
    "adata.var_names"
   ]
  },
  {
   "cell_type": "code",
   "execution_count": null,
   "id": "c4d52960",
   "metadata": {},
   "outputs": [],
   "source": [
    "adata_scvi.write('./2_h5ad files/adata_Malawi_Brazil_US_inner_integrated_covid_scvi')\n"
   ]
  },
  {
   "cell_type": "code",
   "execution_count": null,
   "id": "851b41e2",
   "metadata": {},
   "outputs": [],
   "source": [
    "adata_immune = ad.read_h5ad('./2_h5ad files/adata_Malawi_Brazil_US_inner_integrated_covid_immune') \n",
    "adata_stromal = ad.read_h5ad('./2_h5ad files/adata_Malawi_Brazil_US_inner_integrated_covid_stromal') "
   ]
  },
  {
   "cell_type": "code",
   "execution_count": null,
   "id": "587f0f99",
   "metadata": {},
   "outputs": [],
   "source": [
    "adata_immune.obs_names_make_unique"
   ]
  },
  {
   "cell_type": "code",
   "execution_count": null,
   "id": "fd662e04",
   "metadata": {},
   "outputs": [],
   "source": [
    "adata_immune.write('./2_h5ad files/adata_Malawi_Brazil_US_inner_integrated_covid_immune')\n",
    "adata_stromal.write('./2_h5ad files/adata_Malawi_Brazil_US_inner_integrated_covid_stromal')"
   ]
  },
  {
   "cell_type": "code",
   "execution_count": null,
   "id": "c068ee18",
   "metadata": {},
   "outputs": [],
   "source": [
    "adata_immune"
   ]
  },
  {
   "cell_type": "markdown",
   "id": "cbcdeb8b",
   "metadata": {},
   "source": [
    "Adding the variant and progression infos"
   ]
  },
  {
   "cell_type": "code",
   "execution_count": null,
   "id": "a4ad3c7c",
   "metadata": {},
   "outputs": [],
   "source": [
    "adata = ad.read_h5ad('./2_h5ad files/adata_Malawi_Brazil_US_inner_integrated_covid')\n",
    "adata_immune = ad.read_h5ad('./2_h5ad files/adata_Malawi_Brazil_US_inner_integrated_covid_immune') \n",
    "adata_stromal = ad.read_h5ad('./2_h5ad files/adata_Malawi_Brazil_US_inner_integrated_covid_stromal') "
   ]
  },
  {
   "cell_type": "code",
   "execution_count": null,
   "id": "81afb8fd",
   "metadata": {},
   "outputs": [],
   "source": [
    "# export everything except the data using `.write_csvs`.\n",
    "# Set `skip_data=False` if you also want to export the data.\n",
    "adata.write_csvs(dirname='./1_CSV files/Cohorts', skip_data=False)"
   ]
  },
  {
   "cell_type": "code",
   "execution_count": null,
   "id": "a662fcaf",
   "metadata": {},
   "outputs": [],
   "source": [
    "# Adding Variant status\n",
    "anno = pd.read_csv(filepath_or_buffer='./1_CSV files/Cohorts/obs.csv', index_col=1)"
   ]
  },
  {
   "cell_type": "code",
   "execution_count": null,
   "id": "019fe15b",
   "metadata": {},
   "outputs": [],
   "source": [
    "adata.obs['Variant'] = anno['Variant'].values\n",
    "adata.obs['Progression'] = anno['Progression'].values\n",
    "adata.obs['Cohort_Progression'] = anno['Cohort_Progression'].values"
   ]
  },
  {
   "cell_type": "code",
   "execution_count": null,
   "id": "3653982d",
   "metadata": {},
   "outputs": [],
   "source": [
    "adata.obs"
   ]
  },
  {
   "cell_type": "code",
   "execution_count": null,
   "id": "eb1c628a",
   "metadata": {},
   "outputs": [],
   "source": [
    "adata.write('./2_h5ad files/adata_Malawi_Brazil_US_inner_integrated_covid')"
   ]
  },
  {
   "cell_type": "code",
   "execution_count": null,
   "id": "09087b65",
   "metadata": {},
   "outputs": [],
   "source": [
    "adata_immune = adata[adata.obs['hierarchy'].isin(['Lymphoid', 'Myeloid']),:].copy()\n",
    "adata_stromal = adata[adata.obs['hierarchy'].isin(['Stromal', 'Vascular']),:].copy()"
   ]
  },
  {
   "cell_type": "code",
   "execution_count": null,
   "id": "4e5b294f",
   "metadata": {},
   "outputs": [],
   "source": [
    "adata_immune.write('./2_h5ad files/adata_Malawi_Brazil_US_inner_integrated_covid_immune')\n",
    "adata_stromal.write('./2_h5ad files/adata_Malawi_Brazil_US_inner_integrated_covid_stromal')"
   ]
  },
  {
   "cell_type": "code",
   "execution_count": null,
   "id": "1f2286c7",
   "metadata": {
    "scrolled": true
   },
   "outputs": [],
   "source": [
    "adata_immune2 = adata_immune[~adata_immune.obs['Cohort_Progression'].isin(['Malawi_LD']),:].copy()\n",
    "adata_stromal2 = adata_stromal[~adata_stromal.obs['Cohort_Progression'].isin(['Malawi_LD']),:].copy()"
   ]
  },
  {
   "cell_type": "code",
   "execution_count": null,
   "id": "34b8ef1a",
   "metadata": {},
   "outputs": [],
   "source": [
    "adata_immune2.obs['Cohort_Progression']"
   ]
  },
  {
   "cell_type": "markdown",
   "id": "92558583",
   "metadata": {},
   "source": [
    "Removing cohort-specific cell types:"
   ]
  },
  {
   "cell_type": "code",
   "execution_count": null,
   "id": "757ad7bf",
   "metadata": {},
   "outputs": [],
   "source": [
    "adata = ad.read_h5ad('./2_h5ad files/adata_Malawi_Brazil_US_inner_integrated_covid') #all cases included\n"
   ]
  },
  {
   "cell_type": "code",
   "execution_count": null,
   "id": "50fe0b51",
   "metadata": {},
   "outputs": [],
   "source": [
    "adata"
   ]
  },
  {
   "cell_type": "code",
   "execution_count": null,
   "id": "348b25b6",
   "metadata": {},
   "outputs": [],
   "source": [
    "adata2 = adata[~adata.obs['pheno_cluster_edited2'].isin(['NK cell', 'SARSCoV2+ NK cell', 'Dendritic cell', 'Mast cell']),:].copy()"
   ]
  },
  {
   "cell_type": "code",
   "execution_count": null,
   "id": "eb36c396",
   "metadata": {},
   "outputs": [],
   "source": [
    "adata_immune2 = adata2[adata2.obs['hierarchy'].isin(['Lymphoid', 'Myeloid']),:].copy()\n",
    "adata_stromal2 = adata2[adata2.obs['hierarchy'].isin(['Stromal', 'Vascular']),:].copy()"
   ]
  },
  {
   "cell_type": "code",
   "execution_count": null,
   "id": "792acf58",
   "metadata": {},
   "outputs": [],
   "source": [
    "adata2.write('./2_h5ad files/adata_Malawi_Brazil_US_inner_integrated_covid2')\n",
    "adata_immune2.write('./2_h5ad files/adata_Malawi_Brazil_US_inner_integrated_covid_immune2')\n",
    "adata_stromal2.write('./2_h5ad files/adata_Malawi_Brazil_US_inner_integrated_covid_stromal2')"
   ]
  },
  {
   "cell_type": "markdown",
   "id": "8ce53790",
   "metadata": {},
   "source": [
    "Reannotate of cell types based on the 17 markers only"
   ]
  },
  {
   "cell_type": "code",
   "execution_count": null,
   "id": "e0a6aba6",
   "metadata": {},
   "outputs": [],
   "source": [
    "covid_dict = pd.read_csv('mikeimc_approach/Dictionaries/covid_pheno_cluster_edited_dict3.csv')\n",
    "ep = covid_dict.set_index('pheno_cluster_edited2').to_dict()\n",
    "\n",
    "adata.obs['pheno_cluster_edited3']=adata.obs['pheno_cluster_edited2'].map(ep['Cell_Class3'])\n",
    "\n",
    "adata.obs['pheno_cluster_edited3']=adata.obs['pheno_cluster_edited3'].astype('category')"
   ]
  },
  {
   "cell_type": "code",
   "execution_count": null,
   "id": "02dd910f",
   "metadata": {},
   "outputs": [],
   "source": [
    "# Plot UMAP\n",
    "sc.pl.umap(adata, s = 1, color=\"pheno_cluster_edited3\", palette=colour_palette['colour'], ncols=1, size=3, save='.pdf')"
   ]
  },
  {
   "cell_type": "code",
   "execution_count": null,
   "id": "2c07ed8e",
   "metadata": {},
   "outputs": [],
   "source": [
    "sc.pl.matrixplot(adata, adata.var_names, groupby='pheno_cluster_edited3', vmax=0.75, dendrogram=False, save=True)\n"
   ]
  },
  {
   "cell_type": "code",
   "execution_count": null,
   "id": "43894350",
   "metadata": {},
   "outputs": [],
   "source": []
  },
  {
   "cell_type": "markdown",
   "id": "368bdb63",
   "metadata": {},
   "source": [
    "# Integration"
   ]
  },
  {
   "cell_type": "markdown",
   "id": "8e0736ed",
   "metadata": {},
   "source": [
    "Harmony"
   ]
  },
  {
   "cell_type": "code",
   "execution_count": null,
   "id": "2fac023b",
   "metadata": {},
   "outputs": [],
   "source": [
    "#Calculate PCA for adata - this must be done first (adata2 already contains X_pca)\n",
    "sc.tl.pca(adata)\n",
    "sc.pp.neighbors(adata)\n",
    "sc.tl.umap(adata)\n",
    "adata"
   ]
  },
  {
   "cell_type": "code",
   "execution_count": null,
   "id": "e642d722",
   "metadata": {},
   "outputs": [],
   "source": [
    "sc.pl.umap(adata, size =1, color=\"Cohort\", save = \"unintegrated_inner_dataset.pdf\")"
   ]
  },
  {
   "cell_type": "code",
   "execution_count": null,
   "id": "ff18bdb8",
   "metadata": {
    "scrolled": false
   },
   "outputs": [],
   "source": [
    "import scanpy.external as sce\n",
    "sce.pp.harmony_integrate(adata, 'Cohort')"
   ]
  },
  {
   "cell_type": "code",
   "execution_count": null,
   "id": "efc8ecc5",
   "metadata": {
    "scrolled": false
   },
   "outputs": [],
   "source": [
    "#Calculate UMAP based on harmony integration\n",
    "sc.pp.neighbors(adata, use_rep='X_pca_harmony')\n",
    "sc.tl.umap(adata)"
   ]
  },
  {
   "cell_type": "code",
   "execution_count": null,
   "id": "38ecae37",
   "metadata": {},
   "outputs": [],
   "source": [
    "adata"
   ]
  },
  {
   "cell_type": "code",
   "execution_count": null,
   "id": "64b465e6",
   "metadata": {},
   "outputs": [],
   "source": [
    "sc.pl.umap(adata, s = 1, color=\"pheno_cluster_edited2\", palette = colour_palette['colour'], ncols=1, size=3, save='_harmony_pheno_cluster_edited.pdf')\n",
    "\n"
   ]
  },
  {
   "cell_type": "code",
   "execution_count": null,
   "id": "c4540e3c",
   "metadata": {},
   "outputs": [],
   "source": [
    "sc.pl.umap(adata, s = 1, color=\"hierarchy\", ncols=1, size=3, save='_harmony_hierarchy.pdf')"
   ]
  },
  {
   "cell_type": "markdown",
   "id": "b2f2c92d",
   "metadata": {},
   "source": [
    "Plot UMAPs\n",
    "You can add extra .obs to UMAP_groups to colour the UMAPs by, e.g. treatment"
   ]
  },
  {
   "cell_type": "code",
   "execution_count": null,
   "id": "780f3ef3",
   "metadata": {
    "scrolled": true
   },
   "outputs": [],
   "source": [
    "# Plot UMAP\n",
    "sc.pl.umap(adata, s = 1, color=\"Cohort\", ncols=1, size=3, save='_harmony_inner_dataset.pdf')"
   ]
  },
  {
   "cell_type": "code",
   "execution_count": null,
   "id": "4b96c0b7",
   "metadata": {},
   "outputs": [],
   "source": [
    "# Harmonise some labels first - mainly the SARSCov2+ populations\n",
    "\n",
    "#Re-annotation of the clusters in a dictionary file\n",
    "\n",
    "covid_dict = pd.read_csv('mikeimc_approach/Dictionaries/covid_pheno_cluster_edited_dict2.csv')\n",
    "ep = covid_dict.set_index('pheno_cluster2').to_dict()\n",
    "\n",
    "adata.obs['pheno_cluster_edited2']=adata.obs['pheno_cluster'].map(ep['Cell_Class2'])\n",
    "\n",
    "adata.obs['pheno_cluster_edited2']=adata.obs['pheno_cluster_edited2'].astype('category')\n"
   ]
  },
  {
   "cell_type": "code",
   "execution_count": null,
   "id": "0171e2ff",
   "metadata": {
    "scrolled": true
   },
   "outputs": [],
   "source": [
    "adata"
   ]
  },
  {
   "cell_type": "markdown",
   "id": "70b22836",
   "metadata": {},
   "source": [
    "Visualizing distributions across batches"
   ]
  },
  {
   "cell_type": "markdown",
   "id": "86ce9422",
   "metadata": {},
   "source": [
    "Often, batches correspond to experiments that one wants to compare. Scanpy offers to convenient visualization possibilities for this.\n",
    "\n",
    "a density plot\n",
    "a partial visualization of a subset of categories/groups in an emnbedding"
   ]
  },
  {
   "cell_type": "code",
   "execution_count": null,
   "id": "db337633",
   "metadata": {},
   "outputs": [],
   "source": [
    "adata"
   ]
  },
  {
   "cell_type": "code",
   "execution_count": null,
   "id": "4bf1d577",
   "metadata": {},
   "outputs": [],
   "source": [
    "adata.obs_names_make_unique"
   ]
  },
  {
   "cell_type": "code",
   "execution_count": null,
   "id": "e680821d",
   "metadata": {},
   "outputs": [],
   "source": [
    "#Density plot - it can be calculated for different columns in adata.obs\n",
    "sc.tl.embedding_density(adata, groupby='Cohort')"
   ]
  },
  {
   "cell_type": "code",
   "execution_count": null,
   "id": "0031bce8",
   "metadata": {},
   "outputs": [],
   "source": [
    "sc.pl.embedding_density(adata, groupby='Cohort', save='_harmony_inner_dataset_density.pdf')"
   ]
  },
  {
   "cell_type": "markdown",
   "id": "b5461acd",
   "metadata": {},
   "source": [
    "Variational autoencoder (VAE) based integration"
   ]
  },
  {
   "cell_type": "markdown",
   "id": "96c6dadb",
   "metadata": {},
   "source": [
    "References: https://www.sc-best-practices.org/cellular_structure/integration.html#variational-autoencoder-vae-based-integration\n",
    "https://docs.scvi-tools.org/en/stable/tutorials/notebooks/api_overview.html"
   ]
  },
  {
   "cell_type": "code",
   "execution_count": null,
   "id": "745ffe9e",
   "metadata": {},
   "outputs": [],
   "source": [
    "#Use scvi-env environment for this part of the analysis\n",
    "# Python packages\n",
    "import scanpy as sc\n",
    "import scvi\n",
    "import scib\n",
    "import numpy as np\n",
    "import pandas as pd\n",
    "import matplotlib.pyplot as plt\n",
    "import matplotlib\n",
    "import anndata as ad"
   ]
  },
  {
   "cell_type": "code",
   "execution_count": null,
   "id": "66ab4d79",
   "metadata": {},
   "outputs": [],
   "source": [
    "adata_scvi = adata.copy()\n",
    "#adata_scvi2 = adata2.copy()"
   ]
  },
  {
   "cell_type": "code",
   "execution_count": null,
   "id": "65c33203",
   "metadata": {},
   "outputs": [],
   "source": [
    "adata_scvi"
   ]
  },
  {
   "cell_type": "code",
   "execution_count": null,
   "id": "c4872ec0",
   "metadata": {},
   "outputs": [],
   "source": [
    "# Create layer counts\n",
    "adata_scvi.layers[\"counts\"]=adata_scvi.X.copy()\n",
    "adata_scvi2.layers[\"counts\"]=adata_scvi2.X.copy()"
   ]
  },
  {
   "cell_type": "code",
   "execution_count": null,
   "id": "ac4a099c",
   "metadata": {},
   "outputs": [],
   "source": [
    "adata_scvi"
   ]
  },
  {
   "cell_type": "code",
   "execution_count": null,
   "id": "7e747d05",
   "metadata": {},
   "outputs": [],
   "source": [
    "# Define the expression matrix to use and what the batch key is.\n",
    "batch_key='Cohort'"
   ]
  },
  {
   "cell_type": "code",
   "execution_count": null,
   "id": "2e24441b",
   "metadata": {},
   "outputs": [],
   "source": [
    "# Data preparation\n",
    "# this creates fields marked with scvi\n",
    "scvi.model.SCVI.setup_anndata(adata_scvi, layer=\"counts\", batch_key=batch_key)\n",
    "adata_scvi\n",
    "\n",
    "#scvi.model.SCVI.setup_anndata(adata_scvi2, layer=\"counts\", batch_key=batch_key)\n",
    "#adata_scvi2"
   ]
  },
  {
   "cell_type": "code",
   "execution_count": null,
   "id": "e3553af4",
   "metadata": {},
   "outputs": [],
   "source": [
    "# Building the model\n",
    "# Construct the scVI model object\n",
    "# The scvi-tools package contains various other models - here we will use the scANVI model\n",
    "model_scvi = scvi.model.SCVI(adata_scvi)\n",
    "model_scvi"
   ]
  },
  {
   "cell_type": "code",
   "execution_count": null,
   "id": "47b8234d",
   "metadata": {},
   "outputs": [],
   "source": [
    "#model_scvi2 = scvi.model.SCVI(adata_scvi2)\n",
    "#model_scvi2"
   ]
  },
  {
   "cell_type": "code",
   "execution_count": null,
   "id": "06d112c5",
   "metadata": {},
   "outputs": [],
   "source": [
    "# We can also print a more detailed description of the model that shows us where things are stored in the associated AnnData object.\n",
    "\n",
    "model_scvi.view_anndata_setup()"
   ]
  },
  {
   "cell_type": "code",
   "execution_count": null,
   "id": "f7b56bb7",
   "metadata": {},
   "outputs": [],
   "source": [
    "#model_scvi2.view_anndata_setup()"
   ]
  },
  {
   "cell_type": "code",
   "execution_count": null,
   "id": "6ab1cfef",
   "metadata": {},
   "outputs": [],
   "source": [
    "# Training the model\n",
    "# The model will be trained for a given number of epochs, a training iteration where every cell is passed through the network. \n",
    "# By default scVI uses the following heuristic to set the number of epochs. \n",
    "# For datasets with fewer than 20,000 cells, 400 epochs will be used and as the number of cells grows above 20,000 the number of epochs is continuously reduced. \n",
    "# The reasoning behind this is that as the network sees more cells during each epoch it can learn the same amount of information as it would from more epochs with fewer cells.\n",
    "max_epochs_scvi = np.min([round((20000 / adata_scvi.n_obs) * 400), 400])\n",
    "max_epochs_scvi"
   ]
  },
  {
   "cell_type": "code",
   "execution_count": null,
   "id": "60344a24",
   "metadata": {},
   "outputs": [],
   "source": [
    "#max_epochs_scvi2 = np.min([round((20000 / adata_scvi2.n_obs) * 400), 400])\n",
    "#max_epochs_scvi2"
   ]
  },
  {
   "cell_type": "code",
   "execution_count": null,
   "id": "c698f258",
   "metadata": {},
   "outputs": [],
   "source": [
    "# We now train the model for the selected number of epochs (this will take ~20-40 minutes depending on the computer you are using).\n",
    "# Additionally to setting a target number of epochs, it is possible to also set early_stopping=True in the training function. This will let scVI decide to stop training early depending on the convergence of the model. \n",
    "# The exact conditions for stopping can be controlled by other parameters.\n",
    "model_scvi.train(max_epochs=26)"
   ]
  },
  {
   "cell_type": "code",
   "execution_count": null,
   "id": "04c9b36e",
   "metadata": {},
   "outputs": [],
   "source": [
    "# Extract the embedding\n",
    "\n",
    "# The main result we want to extract from the trained model is the latent representation for each cell. \n",
    "# This is a multi-dimensional embedding where the batch effects have been removed that can be used in a similar way to how we use PCA dimensions when analysing a single dataset. \n",
    "# We store this in obsm with the key X_scvi.\n",
    "\n",
    "adata_scvi.obsm[\"X_scVI\"] = model_scvi.get_latent_representation()"
   ]
  },
  {
   "cell_type": "code",
   "execution_count": null,
   "id": "561e3fcb",
   "metadata": {},
   "outputs": [],
   "source": [
    "# Calculate a batch-corrected UMAP\n",
    "\n",
    "#We calculate a new UMAP embedding but instead of finding nearest neighbors in PCA space, \n",
    "# we start with the corrected representation from scVI.\n",
    "\n",
    "sc.pp.neighbors(adata_scvi, use_rep=\"X_scVI\")\n",
    "sc.tl.umap(adata_scvi)\n",
    "adata_scvi"
   ]
  },
  {
   "cell_type": "code",
   "execution_count": null,
   "id": "27a79f23",
   "metadata": {},
   "outputs": [],
   "source": [
    "sc.pl.umap(adata_scvi, size =1, color=batch_key, save = \"scVI_inner_dataset.pdf\")"
   ]
  },
  {
   "cell_type": "code",
   "execution_count": null,
   "id": "25fb2225",
   "metadata": {},
   "outputs": [],
   "source": [
    "sc.tl.embedding_density(adata_scvi, groupby='Patient')"
   ]
  },
  {
   "cell_type": "code",
   "execution_count": null,
   "id": "4f4131d5",
   "metadata": {},
   "outputs": [],
   "source": [
    "sc.pl.embedding_density(adata_scvi, groupby='Patient', save='_scVI_density.pdf')"
   ]
  },
  {
   "cell_type": "markdown",
   "id": "2a75068f",
   "metadata": {},
   "source": [
    "VAE integration using cell labels"
   ]
  },
  {
   "cell_type": "markdown",
   "id": "3d291f13",
   "metadata": {},
   "source": [
    "When performing integration with scVI we pretended that we didn’t already have any cell labels (although we showed them in plots). While this scenario is common there are some cases where we do know something about cell identity in advance. Most often this is when we want to combine one or more publicly available datasets with data from a new study. When we have labels for at least some of the cells we can use scANVI (single-cell ANnotation using Variational Inference) [Xu et al., 2021]. This is an extension of the scVI model that can incorporate cell identity label information as well as batch information. Because it has this extra information it can try to keep the differences between cell labels while removing batch effects. Benchmarking suggests that scANVI tends to better preserve biological signals compared to scVI but sometimes it is not as effective at removing batch effects [Luecken et al., 2021]. While we have labels for all cells here it is also possible to use scANVI in a semi-supervised manner where labels are only provided for some cells.\n",
    "\n",
    "Label harmonization\n",
    "If you are using scANVI to integrate multiple datasets for which you already have labels it is important to first perform label harmonization. This refers to a process of checking that labels are consistent across the datasets that are being integrated. For example, a cell may be annotated as a “T cell” in one dataset, but a cell of the same type could have been given the label “CD8+ T cell” in another dataset. How best to harmonize labels is an open question but often requires input from subject-matter experts."
   ]
  },
  {
   "cell_type": "code",
   "execution_count": null,
   "id": "879dd5f7",
   "metadata": {},
   "outputs": [],
   "source": [
    "# VAE integration using cell labels\n",
    "# I will test this approach using the leiden0.3 as the cell label key\n",
    "label_key = \"pheno_cluster\"\n",
    "model_scanvi = scvi.model.SCANVI.from_scvi_model(model_scvi, labels_key=label_key, unlabeled_category=\"unlabelled\")\n",
    "print(model_scanvi)\n",
    "model_scanvi.view_anndata_setup()"
   ]
  },
  {
   "cell_type": "code",
   "execution_count": null,
   "id": "67d74b1c",
   "metadata": {},
   "outputs": [],
   "source": [
    "# Harmonise some labels first - mainly the SARSCov2+ populations\n",
    "\n",
    "#Re-annotation of the clusters in a dictionary file\n",
    "\n",
    "covid_dict = pd.read_csv('mikeimc_approach/Dictionaries/covid_pheno_cluster_edited_dict.csv')\n",
    "ep = covid_dict.set_index('pheno_cluster').to_dict()\n",
    "\n",
    "adata_scvi.obs['pheno_cluster_edited']=adata_scvi.obs['pheno_cluster'].map(ep['Cell_Class'])\n",
    "\n",
    "adata_scvi.obs['pheno_cluster_edited']=adata_scvi.obs['pheno_cluster_edited'].astype('category')\n"
   ]
  },
  {
   "cell_type": "code",
   "execution_count": null,
   "id": "85253d8c",
   "metadata": {},
   "outputs": [],
   "source": [
    "adata_scvi.obs"
   ]
  },
  {
   "cell_type": "code",
   "execution_count": null,
   "id": "4c4227cf",
   "metadata": {},
   "outputs": [],
   "source": [
    "label_key = \"pheno_cluster_edited2\"\n",
    "model_scanvi = scvi.model.SCANVI.from_scvi_model(model_scvi, labels_key=label_key, unlabeled_category=\"unlabelled\")\n",
    "print(model_scanvi)\n",
    "model_scanvi.view_anndata_setup()"
   ]
  },
  {
   "cell_type": "code",
   "execution_count": null,
   "id": "8744a102",
   "metadata": {},
   "outputs": [],
   "source": [
    "max_epochs_scanvi = int(np.min([10, np.max([2, round(max_epochs_scvi / 3.0)])]))\n",
    "model_scanvi.train(max_epochs=max_epochs_scanvi)"
   ]
  },
  {
   "cell_type": "code",
   "execution_count": null,
   "id": "fd991b2b",
   "metadata": {},
   "outputs": [],
   "source": [
    "# extract the new latent representation from the model and create a new UMAP embedding.\n",
    "adata_scvi.obsm[\"X_scANVI\"] = model_scanvi.get_latent_representation()\n",
    "sc.pp.neighbors(adata_scvi, use_rep=\"X_scANVI\")\n",
    "sc.tl.umap(adata_scvi)"
   ]
  },
  {
   "cell_type": "code",
   "execution_count": null,
   "id": "156aa7e3",
   "metadata": {
    "scrolled": true
   },
   "outputs": [],
   "source": [
    "sc.pl.umap(adata_scvi, color=[label_key], wspace=1)"
   ]
  },
  {
   "cell_type": "code",
   "execution_count": null,
   "id": "bb2e9bfa",
   "metadata": {},
   "outputs": [],
   "source": [
    "sc.pl.umap(adata_scvi, color=[batch_key], wspace=1, save = \"sANcVI_inner_dataset.pdf\")"
   ]
  },
  {
   "cell_type": "code",
   "execution_count": null,
   "id": "b9249b2c",
   "metadata": {},
   "outputs": [],
   "source": [
    "sc.pl.embedding_density(adata_scvi, groupby='Patient', save='_scANVI_density.pdf')"
   ]
  },
  {
   "cell_type": "code",
   "execution_count": null,
   "id": "96f5e39a",
   "metadata": {},
   "outputs": [],
   "source": [
    "adata_scvi"
   ]
  },
  {
   "cell_type": "markdown",
   "id": "f4397b5c",
   "metadata": {},
   "source": [
    "# Cell proportions across cohorts"
   ]
  },
  {
   "cell_type": "code",
   "execution_count": null,
   "id": "f97bb826",
   "metadata": {},
   "outputs": [],
   "source": [
    "col_df = pd.read_csv('mikeimc_approach/colours/pheno_colours_edited2.csv')\n",
    "colour_palette = col_df.set_index('pheno_cluster_edited2').to_dict()\n",
    "colour_palette['colour']"
   ]
  },
  {
   "cell_type": "code",
   "execution_count": null,
   "id": "49450b66",
   "metadata": {},
   "outputs": [],
   "source": [
    "col_df = pd.read_csv('mikeimc_approach/colours/pheno_colours_edited3.csv')\n",
    "colour_palette = col_df.set_index('pheno_cluster_edited3').to_dict()\n",
    "colour_palette['colour']"
   ]
  },
  {
   "cell_type": "code",
   "execution_count": null,
   "id": "7c18ad85",
   "metadata": {
    "scrolled": true
   },
   "outputs": [],
   "source": [
    "# Remove RBCs\n",
    "adata = adata[~adata.obs['pheno_cluster_edited2'].isin(['RBC']),:].copy()"
   ]
  },
  {
   "cell_type": "code",
   "execution_count": null,
   "id": "a12adeec",
   "metadata": {},
   "outputs": [],
   "source": [
    "adata_scvi = adata_scvi[~adata_scvi.obs['pheno_cluster_edited2'].isin(['RBC']),:].copy()"
   ]
  },
  {
   "cell_type": "code",
   "execution_count": null,
   "id": "7498feec",
   "metadata": {},
   "outputs": [],
   "source": [
    "adata_immune = adata[adata.obs['hierarchy'].isin(['Lymphoid', 'Myeloid']),:].copy()\n",
    "adata_stromal = adata[adata.obs['hierarchy'].isin(['Stromal', 'Vascular']),:].copy()"
   ]
  },
  {
   "cell_type": "code",
   "execution_count": null,
   "id": "8cd55131",
   "metadata": {},
   "outputs": [],
   "source": [
    "tmp = pd.crosstab(adata.obs['pheno_cluster_edited2'],adata.obs['Cohort'], margins=False, margins_name='Total', normalize='columns')"
   ]
  },
  {
   "cell_type": "code",
   "execution_count": null,
   "id": "532fdf69",
   "metadata": {},
   "outputs": [],
   "source": [
    "tmp = pd.crosstab(adata_immune.obs['pheno_cluster_edited3'],adata_immune.obs['Cohort_Progression'], margins=False, margins_name='Total', normalize='columns')"
   ]
  },
  {
   "cell_type": "code",
   "execution_count": null,
   "id": "979bd015",
   "metadata": {},
   "outputs": [],
   "source": [
    "tmp = pd.crosstab(adata_stromal.obs['pheno_cluster_edited3'],adata_stromal.obs['Cohort_Progression'], margins=False, margins_name='Total', normalize='columns')"
   ]
  },
  {
   "cell_type": "code",
   "execution_count": null,
   "id": "f3fd156b",
   "metadata": {},
   "outputs": [],
   "source": [
    "tmp"
   ]
  },
  {
   "cell_type": "code",
   "execution_count": null,
   "id": "13b93768",
   "metadata": {},
   "outputs": [],
   "source": [
    "tmp2 = tmp.reindex(['B cell', \"CD4 T cell\", \"CD4 Treg cell\", \"CD8 T cell\",\n",
    "                    'Dendritic cell',  'Mast cell',\n",
    "                     \"SARSCoV2+ NK cell\",  'NK cell',\n",
    "                    'SARSCoV2+ neutrophil', \"Apoptotic neutrophil\", 'Neutrophil', \n",
    "                    'SARSCoV2+ monocyte', \"Classical monocyte\", 'SARSCoV2+ IM', 'Interstitial macrophage',\n",
    "                    'SARSCoV2+ AM', 'Apoptotic alveolar macrophage', 'Alveolar macrophage'])"
   ]
  },
  {
   "cell_type": "code",
   "execution_count": null,
   "id": "7dfcfa47",
   "metadata": {},
   "outputs": [],
   "source": [
    "tmp2 = tmp.reindex(['B cell', \"CD4 T cell\", \"CD4 Treg cell\", \"CD8 T cell\",\n",
    "                    'SARSCoV2+ neutrophil', \"Apoptotic neutrophil\", 'Neutrophil', \n",
    "                    'SARSCoV2+ monocyte', \"Classical monocyte\", 'SARSCoV2+ IM', 'Interstitial macrophage',\n",
    "                    'SARSCoV2+ AM', 'Apoptotic alveolar macrophage', 'Alveolar macrophage'])"
   ]
  },
  {
   "cell_type": "code",
   "execution_count": null,
   "id": "0b354f78",
   "metadata": {},
   "outputs": [],
   "source": [
    "tmp2 = tmp.reindex(['SARSCoV2+ epithelial cell', 'Apoptotic epithelial cell', 'Epithelial cell', \n",
    "                    'Activated endothelial cell', 'Endothelial cell', 'Fibroblast', 'Apoptotic fibroblast',\n",
    "                    'SMC', 'Apoptotic SMC', \"Mesenchymal\"])"
   ]
  },
  {
   "cell_type": "code",
   "execution_count": null,
   "id": "847ecd19",
   "metadata": {},
   "outputs": [],
   "source": [
    "tmp2 = tmp.reindex(['B cell', \"CD4 T cell\", \"CD4 Treg cell\", \"CD8 T cell\",\n",
    "                    'CD11c+ cell',\n",
    "                     \"SARSCoV2+ CD45+ cell\",  'CD45+ cell',\n",
    "                    'SARSCoV2+ neutrophil', 'Neutrophil', \n",
    "                    'SARSCoV2+ monocyte', \"Classical monocyte\", 'SARSCoV2+ IM', 'Interstitial macrophage',\n",
    "                    'SARSCoV2+ AM', 'Alveolar macrophage'])"
   ]
  },
  {
   "cell_type": "code",
   "execution_count": null,
   "id": "48ed1362",
   "metadata": {},
   "outputs": [],
   "source": [
    "tmp2 = tmp.reindex(['SARSCoV2+ epithelial cell', 'Epithelial cell', \n",
    "                    'Endothelial cell', 'Fibroblast',\n",
    "                    'SMC', \"Mesenchymal\"])"
   ]
  },
  {
   "cell_type": "code",
   "execution_count": null,
   "id": "b1ffc338",
   "metadata": {},
   "outputs": [],
   "source": [
    "tmp3 = tmp2.reindex(index=tmp2.index[::-1])"
   ]
  },
  {
   "cell_type": "code",
   "execution_count": null,
   "id": "6b697be3",
   "metadata": {},
   "outputs": [],
   "source": [
    "tmp4 = pd.DataFrame.transpose(tmp3)"
   ]
  },
  {
   "cell_type": "code",
   "execution_count": null,
   "id": "7a071ab7",
   "metadata": {},
   "outputs": [],
   "source": [
    "tmp4"
   ]
  },
  {
   "cell_type": "code",
   "execution_count": null,
   "id": "530e1175",
   "metadata": {},
   "outputs": [],
   "source": [
    "tmp5 = tmp4.reindex(['Malawi_ED', 'Brazil_ED', 'US_ED', 'Malawi_LD', 'Brazil_LD', 'US_LD'])"
   ]
  },
  {
   "cell_type": "code",
   "execution_count": null,
   "id": "9a13b483",
   "metadata": {},
   "outputs": [],
   "source": [
    "#color for stack bars for the disease groups matching the other bar graphs\n",
    "#F08080 - light coral\n",
    "#87CEFA - lightskyblue\n",
    "#D3D3D3 - lightgrey\n",
    "\n",
    "import seaborn as sb\n",
    "\n",
    "pretty_colors = ['#F08080','#87CEFA','#D3D3D3']\n",
    "color_pal = sb.color_palette('Paired')\n",
    "\n",
    "#sb.set_style(\"whitegrid\", {'axes.grid' : True})\n",
    "tmp5.plot.bar(stacked=True, color=colour_palette['colour'], figsize=(4, 4), rot=45).legend(bbox_to_anchor=(1, 1))\n",
    "plt.savefig(\"Frequency_immune_Cohorts_Progression_iteration3_reversed.pdf\", format=\"pdf\", bbox_inches=\"tight\")"
   ]
  },
  {
   "cell_type": "code",
   "execution_count": null,
   "id": "e07ccb0f",
   "metadata": {},
   "outputs": [],
   "source": [
    "compression_opts = dict(method='zip',\n",
    "                         archive_name='Immune_Cohort_Progression.csv') \n",
    "tmp2.to_csv('Immune_Cohort_Progression.zip', index=True, compression=compression_opts)"
   ]
  },
  {
   "cell_type": "code",
   "execution_count": null,
   "id": "bcf4925c",
   "metadata": {},
   "outputs": [],
   "source": [
    "import mikeimc_v2\n",
    "\n",
    "# Alter this list with adata.obs variables that you want to plot against the resulting leiden population\n",
    "image_var = 'ROI'\n",
    "\n",
    "for i in ['Cohort_Progression']:\n",
    "\n",
    "    mikeimc_v2.grouped_graph(adata_immune,\n",
    "                             ROI_id=image_var,\n",
    "                             group_by_obs=i,\n",
    "                             x_axis='pheno_cluster_edited2',\n",
    "                             fig_size=(8, 4),\n",
    "                             log_scale=False, scale_factor=True, crosstab_norm='columns',\n",
    "                            display_tables=True) #If you change display_tables to True, will also do stats on the groups\n",
    "    # use crosstab_norm='columns' to plot and do statistics based on cell frequencies per group\n",
    "    plt.show()\n"
   ]
  },
  {
   "cell_type": "code",
   "execution_count": null,
   "id": "5849f3f4",
   "metadata": {},
   "outputs": [],
   "source": [
    "cells = pd.crosstab([adata_immune.obs['Variant'], adata_immune.obs['ROI']],adata_immune.obs['pheno_cluster_edited2'],normalize='index')\n",
    "cells.columns=cells.columns.astype('str') "
   ]
  },
  {
   "cell_type": "code",
   "execution_count": null,
   "id": "d88296db",
   "metadata": {},
   "outputs": [],
   "source": [
    "cells = pd.crosstab([adata_stromal.obs['Variant'], adata_stromal.obs['ROI']],adata_stromal.obs['pheno_cluster_edited2'],normalize='index')\n",
    "cells.columns=cells.columns.astype('str') "
   ]
  },
  {
   "cell_type": "code",
   "execution_count": null,
   "id": "97be44b0",
   "metadata": {},
   "outputs": [],
   "source": [
    "cells = pd.crosstab([adata.obs['Cohort_Progression'], adata.obs['ROI']],adata.obs['pheno_cluster_edited3'],normalize='index')\n",
    "cells.columns=cells.columns.astype('str') "
   ]
  },
  {
   "cell_type": "code",
   "execution_count": null,
   "id": "eb36eb73",
   "metadata": {},
   "outputs": [],
   "source": [
    "cells"
   ]
  },
  {
   "cell_type": "code",
   "execution_count": null,
   "id": "8d5c44ca",
   "metadata": {},
   "outputs": [],
   "source": [
    "compression_opts = dict(method='zip',\n",
    "                         archive_name='Proportions_Cohort_Progression_iteration3.csv') \n",
    "cells.to_csv('Proportions_Cohort_Progression_iteration3.zip', index=True, compression=compression_opts)"
   ]
  },
  {
   "cell_type": "code",
   "execution_count": null,
   "id": "4e1401a8",
   "metadata": {},
   "outputs": [],
   "source": [
    "sc.pl.matrixplot(adata, adata.var_names, groupby='pheno_cluster_edited2', vmax=0.75, dendrogram=True, save=True)\n"
   ]
  },
  {
   "cell_type": "markdown",
   "id": "a5e24812",
   "metadata": {},
   "source": [
    "# Proportion comparisons analysis - scanpro"
   ]
  },
  {
   "cell_type": "code",
   "execution_count": null,
   "id": "df21cd22",
   "metadata": {},
   "outputs": [],
   "source": [
    "from scanpro import scanpro"
   ]
  },
  {
   "cell_type": "code",
   "execution_count": null,
   "id": "8f07676b",
   "metadata": {},
   "outputs": [],
   "source": [
    "adata_stromal.obs['Variant']"
   ]
  },
  {
   "cell_type": "code",
   "execution_count": null,
   "id": "87898c32",
   "metadata": {},
   "outputs": [],
   "source": [
    "adata_stromal"
   ]
  },
  {
   "cell_type": "code",
   "execution_count": null,
   "id": "2afb1e1b",
   "metadata": {},
   "outputs": [],
   "source": [
    "adata_immune3 = adata_immune[adata_immune.obs['Cohort_Progression'].isin(['Malawi_ED', \"Brazil_ED\", \"US_ED\"]),:].copy()\n",
    "adata_stromal3 = adata_stromal[adata_stromal.obs['Cohort_Progression'].isin(['Malawi_ED', \"Brazil_ED\", \"US_ED\"]),:].copy()"
   ]
  },
  {
   "cell_type": "code",
   "execution_count": null,
   "id": "364c7853",
   "metadata": {},
   "outputs": [],
   "source": [
    "adata_immune4 = adata_immune[adata_immune.obs['Cohort_Progression'].isin(['Malawi_LD', \"Brazil_LD\", \"US_LD\"]),:].copy()\n",
    "adata_stromal4 = adata_stromal[adata_stromal.obs['Cohort_Progression'].isin(['Malawi_LD', \"Brazil_LD\", \"US_LD\"]),:].copy()\n",
    "adata4 = adata[adata.obs['Cohort_Progression'].isin(['Malawi_LD', \"Brazil_LD\", \"US_LD\"]),:].copy()"
   ]
  },
  {
   "cell_type": "code",
   "execution_count": null,
   "id": "59fd9520",
   "metadata": {},
   "outputs": [],
   "source": [
    "adata_immune5 = adata_immune[adata_immune.obs['Cohort_Progression'].isin(['Malawi_ED', \"Brazil_LD\", \"US_LD\"]),:].copy()\n",
    "adata_stromal5 = adata_stromal[adata_stromal.obs['Cohort_Progression'].isin(['Malawi_ED', \"Brazil_LD\", \"US_LD\"]),:].copy()\n",
    "adata5 = adata[adata.obs['Cohort_Progression'].isin(['Malawi_LD', \"Brazil_LD\", \"US_LD\"]),:].copy()"
   ]
  },
  {
   "cell_type": "code",
   "execution_count": null,
   "id": "aee6ce81",
   "metadata": {
    "scrolled": true
   },
   "outputs": [],
   "source": [
    "out = scanpro(adata_immune, clusters_col='pheno_cluster_edited3', conds_col='Progression', samples_col='ROI')"
   ]
  },
  {
   "cell_type": "code",
   "execution_count": null,
   "id": "b9e98e39",
   "metadata": {
    "scrolled": false
   },
   "outputs": [],
   "source": [
    "out.results"
   ]
  },
  {
   "cell_type": "markdown",
   "id": "673d949d",
   "metadata": {},
   "source": [
    "# Proportion comparisons analysis - scCODA"
   ]
  },
  {
   "cell_type": "code",
   "execution_count": null,
   "id": "c358770a",
   "metadata": {},
   "outputs": [],
   "source": [
    "# run in the scvi-env environment\n",
    "from sccoda.util import comp_ana as mod\n",
    "from sccoda.util import cell_composition_data as dat\n",
    "from sccoda.util import data_visualization as viz\n",
    "\n",
    "import sccoda.datasets as scd"
   ]
  },
  {
   "cell_type": "code",
   "execution_count": null,
   "id": "7b847471",
   "metadata": {},
   "outputs": [],
   "source": [
    "model_salm = mod.CompositionalAnalysis(adata_immune, formula=\"Variant\", reference_cell_type=\"automatic\")"
   ]
  },
  {
   "cell_type": "code",
   "execution_count": null,
   "id": "07e833b9",
   "metadata": {},
   "outputs": [],
   "source": [
    "# Run MCMC\n",
    "sim_results = model_salm.sample_hmc()"
   ]
  },
  {
   "cell_type": "code",
   "execution_count": null,
   "id": "34cc6562",
   "metadata": {},
   "outputs": [],
   "source": [
    "sim_results.summary()"
   ]
  },
  {
   "cell_type": "code",
   "execution_count": null,
   "id": "21db4b86",
   "metadata": {},
   "outputs": [],
   "source": [
    "print(sim_results.credible_effects())"
   ]
  },
  {
   "cell_type": "code",
   "execution_count": null,
   "id": "5211c4c9",
   "metadata": {},
   "outputs": [],
   "source": [
    "sim_results.set_fdr(est_fdr=0.05)\n",
    "sim_results.summary()"
   ]
  },
  {
   "cell_type": "code",
   "execution_count": null,
   "id": "4b614bfc",
   "metadata": {},
   "outputs": [],
   "source": [
    "# saving\n",
    "path = \"test\"\n",
    "sim_results.save(path)\n",
    "\n",
    "# loading\n",
    "with open(path, \"rb\") as f:\n",
    "    sim_results_2 = pkl.load(f)\n",
    "\n",
    "sim_results_2.summary()"
   ]
  },
  {
   "cell_type": "markdown",
   "id": "59f7afd0",
   "metadata": {},
   "source": [
    "# QC integration methods"
   ]
  },
  {
   "cell_type": "code",
   "execution_count": null,
   "id": "1357e2d8",
   "metadata": {
    "scrolled": true
   },
   "outputs": [],
   "source": [
    "import faiss\n",
    "from scib_metrics.nearest_neighbors import NeighborsOutput"
   ]
  },
  {
   "cell_type": "code",
   "execution_count": null,
   "id": "e4dabbfe",
   "metadata": {},
   "outputs": [],
   "source": [
    "from scib_metrics.benchmark import Benchmarker"
   ]
  },
  {
   "cell_type": "code",
   "execution_count": null,
   "id": "eb03b93a",
   "metadata": {},
   "outputs": [],
   "source": [
    "import time"
   ]
  },
  {
   "cell_type": "code",
   "execution_count": null,
   "id": "506b0e69",
   "metadata": {},
   "outputs": [],
   "source": [
    "adata_scvi"
   ]
  },
  {
   "cell_type": "code",
   "execution_count": null,
   "id": "871f68bd",
   "metadata": {},
   "outputs": [],
   "source": [
    "start = time.time()\n",
    "bm = Benchmarker(\n",
    "    adata_scvi,\n",
    "    batch_key=batch_key,\n",
    "    label_key=label_key,\n",
    "    embedding_obsm_keys=[\"X_pca\", \"X_scVI\", \"X_scANVI\", \"X_pca_harmony\"],\n",
    "    pre_integrated_embedding_obsm_key=\"X_pca\",\n",
    "    bio_conservation_metrics=None,\n",
    "    n_jobs=-1,\n",
    ")\n",
    "bm.benchmark()\n",
    "end = time.time()\n",
    "print(f\"Time: {int((end - start) / 60)} min {int((end - start) % 60)} sec\")"
   ]
  },
  {
   "cell_type": "code",
   "execution_count": null,
   "id": "82b64807",
   "metadata": {},
   "outputs": [],
   "source": [
    "label_key = \"population\"\n",
    "batch_key='Patient'"
   ]
  },
  {
   "cell_type": "code",
   "execution_count": null,
   "id": "be8b3804",
   "metadata": {},
   "outputs": [],
   "source": [
    "metrics_scvi = scib.metrics.metrics_fast(adata_scvi, batch_key, label_key, embed=\"X_scVI\")\n",
    "metrics_scanvi = scib.metrics.metrics_fast(adata_scvi, batch_key, label_key, embed=\"X_scANVI\")\n",
    "metrics_bbknn = scib.metrics.metrics_fast(adata_scvi, batch_key, label_key)# BBKNN is stored in the neighbours key, because I ran in adata_subset it might no be different between these adatas\n",
    "metrics_harmony = scib.metrics.metrics_fast(adata_scvi, batch_key, label_key, embed=\"X_pca_harmony\")\n"
   ]
  },
  {
   "cell_type": "markdown",
   "id": "2c16a8b8",
   "metadata": {},
   "source": [
    "# Export data"
   ]
  },
  {
   "cell_type": "code",
   "execution_count": null,
   "id": "e8754588",
   "metadata": {},
   "outputs": [],
   "source": [
    "#Make a simplified dataframe to export\n",
    "adata_export = adata_subset3.obs[['Case','ROI','Type','hierarchy','pheno_cluster']].copy()"
   ]
  },
  {
   "cell_type": "code",
   "execution_count": null,
   "id": "e4ee783c",
   "metadata": {},
   "outputs": [],
   "source": [
    "#Split up the X and Y columns from the adata\n",
    "adata_export['X'], adata_export['Y'] = np.split(adata_subset3.obsm['spatial'],[-1],axis=1)\n",
    "#Save to file\n",
    "adata_export.to_csv('adata_cluster_export.csv')"
   ]
  },
  {
   "cell_type": "code",
   "execution_count": null,
   "id": "b145c56d",
   "metadata": {},
   "outputs": [],
   "source": [
    "# export everything except the data using `.write_csvs`.\n",
    "# Set `skip_data=False` if you also want to export the data.\n",
    "adata_subset3.write_csvs(dirname='./', skip_data=False)"
   ]
  }
 ],
 "metadata": {
  "kernelspec": {
   "display_name": "Python 3 (ipykernel)",
   "language": "python",
   "name": "python3"
  },
  "language_info": {
   "codemirror_mode": {
    "name": "ipython",
    "version": 3
   },
   "file_extension": ".py",
   "mimetype": "text/x-python",
   "name": "python",
   "nbconvert_exporter": "python",
   "pygments_lexer": "ipython3",
   "version": "3.9.13"
  }
 },
 "nbformat": 4,
 "nbformat_minor": 5
}

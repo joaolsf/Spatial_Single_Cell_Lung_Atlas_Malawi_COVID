{
 "cells": [
  {
   "cell_type": "markdown",
   "metadata": {},
   "source": [
    "# MaxFuse: Integrate snRNAseq with IMC lung tissue data (COVID-19 patients only) "
   ]
  },
  {
   "cell_type": "code",
   "execution_count": null,
   "metadata": {
    "scrolled": true
   },
   "outputs": [],
   "source": [
    "import numpy as np\n",
    "import pandas as pd\n",
    "from scipy.io import mmread\n",
    "\n",
    "import matplotlib.pyplot as plt\n",
    "plt.rcParams[\"figure.figsize\"] = (6, 4)\n",
    "\n",
    "from sklearn.metrics import confusion_matrix, ConfusionMatrixDisplay\n",
    "\n",
    "import anndata as ad\n",
    "import scanpy as sc\n",
    "import maxfuse as mf\n",
    "\n",
    "import seaborn as sns"
   ]
  },
  {
   "cell_type": "code",
   "execution_count": null,
   "metadata": {},
   "outputs": [],
   "source": [
    "# Set up output figure settings\n",
    "plt.rcParams['figure.figsize']=(64,64) #rescale figures, increase sizehere\n",
    "\n",
    "# Set up scanpy settings\n",
    "sc.settings.verbosity = 3\n",
    "sc.set_figure_params(dpi=100, dpi_save=300) #Increase DPI for better resolution figures"
   ]
  },
  {
   "cell_type": "code",
   "execution_count": null,
   "metadata": {},
   "outputs": [],
   "source": [
    "import dill "
   ]
  },
  {
   "cell_type": "code",
   "execution_count": null,
   "metadata": {},
   "outputs": [],
   "source": [
    "#save the session\n",
    "dill.dump_session('IMC_snRNAseq_maxfuse.db')"
   ]
  },
  {
   "cell_type": "code",
   "execution_count": null,
   "metadata": {},
   "outputs": [],
   "source": [
    "#load the session\n",
    "dill.load_session('COSMX_IPMN_maxfuse.db')"
   ]
  },
  {
   "cell_type": "code",
   "execution_count": null,
   "metadata": {},
   "outputs": [],
   "source": [
    "import pickle \n",
    "with open('fusor.pkl', \"wb\") as f:\n",
    "    pickle.dump(fusor, f, pickle.HIGHEST_PROTOCOL)"
   ]
  },
  {
   "cell_type": "code",
   "execution_count": null,
   "metadata": {},
   "outputs": [],
   "source": [
    "import pickle \n",
    "with open('fusor.pkl', 'rb') as f:\n",
    "    fusor = pickle.load(f)"
   ]
  },
  {
   "cell_type": "markdown",
   "metadata": {},
   "source": [
    "# 1- Import anndata objects"
   ]
  },
  {
   "cell_type": "code",
   "execution_count": null,
   "metadata": {},
   "outputs": [],
   "source": [
    "pwd"
   ]
  },
  {
   "cell_type": "markdown",
   "metadata": {},
   "source": [
    "Read in snRNAseq anndata object"
   ]
  },
  {
   "cell_type": "code",
   "execution_count": null,
   "metadata": {},
   "outputs": [],
   "source": [
    "adata_10X = sc.read(\"./Iteration1/covid_lung_only_no_RBC.h5ad\")"
   ]
  },
  {
   "cell_type": "code",
   "execution_count": null,
   "metadata": {},
   "outputs": [],
   "source": [
    "adata_10X"
   ]
  },
  {
   "cell_type": "code",
   "execution_count": null,
   "metadata": {},
   "outputs": [],
   "source": [
    "adata_10X.obs"
   ]
  },
  {
   "cell_type": "code",
   "execution_count": null,
   "metadata": {},
   "outputs": [],
   "source": [
    "adata_10X.X.toarray()"
   ]
  },
  {
   "cell_type": "code",
   "execution_count": null,
   "metadata": {},
   "outputs": [],
   "source": [
    "adata_10X.layers['counts'] = adata_10X.X.copy()\n",
    "adata_10X.layers[\"scaled\"] = sc.pp.scale(adata_10X, copy=True).X"
   ]
  },
  {
   "cell_type": "code",
   "execution_count": null,
   "metadata": {},
   "outputs": [],
   "source": [
    "adata_10X.obs['fine_annotation']"
   ]
  },
  {
   "cell_type": "code",
   "execution_count": null,
   "metadata": {},
   "outputs": [],
   "source": [
    "sc.pl.umap(adata_10X, color='fine_annotation') "
   ]
  },
  {
   "cell_type": "code",
   "execution_count": null,
   "metadata": {},
   "outputs": [],
   "source": [
    "# remmove erythrocytes - also removed in the IMC data\n",
    "adata_10X = adata_10X[~adata_10X.obs['fine_annotation'].isin(['Erythrocytes']),:].copy()"
   ]
  },
  {
   "cell_type": "code",
   "execution_count": null,
   "metadata": {},
   "outputs": [],
   "source": [
    "adata_10X.write('./covid_lung_only_no_RBC.h5ad')"
   ]
  },
  {
   "cell_type": "markdown",
   "metadata": {},
   "source": [
    "Read in IMC anndata object"
   ]
  },
  {
   "cell_type": "code",
   "execution_count": null,
   "metadata": {},
   "outputs": [],
   "source": [
    "adata_IMC = sc.read(\"./Iteration1/adata_COVID.h5ad\")"
   ]
  },
  {
   "cell_type": "code",
   "execution_count": null,
   "metadata": {},
   "outputs": [],
   "source": [
    "adata_IMC"
   ]
  },
  {
   "cell_type": "code",
   "execution_count": null,
   "metadata": {},
   "outputs": [],
   "source": [
    "adata_IMC.obs"
   ]
  },
  {
   "cell_type": "code",
   "execution_count": null,
   "metadata": {
    "scrolled": true
   },
   "outputs": [],
   "source": [
    "sc.pl.umap(adata_IMC, color='cell_type') #remmove erythrocytes"
   ]
  },
  {
   "cell_type": "code",
   "execution_count": null,
   "metadata": {},
   "outputs": [],
   "source": [
    "sc.pl.umap(adata_IMC, color='CD206')"
   ]
  },
  {
   "cell_type": "code",
   "execution_count": null,
   "metadata": {},
   "outputs": [],
   "source": [
    "adata_IMC.X"
   ]
  },
  {
   "cell_type": "code",
   "execution_count": null,
   "metadata": {},
   "outputs": [],
   "source": [
    "adata_IMC.var_names"
   ]
  },
  {
   "cell_type": "code",
   "execution_count": null,
   "metadata": {},
   "outputs": [],
   "source": [
    "# check if IMC genes are in the snRNAseq data\n",
    "sc.pl.umap(adata_10X, layer = 'counts',color = 'KRT7')"
   ]
  },
  {
   "cell_type": "markdown",
   "metadata": {},
   "source": [
    "## Data preprocessing"
   ]
  },
  {
   "cell_type": "code",
   "execution_count": null,
   "metadata": {},
   "outputs": [],
   "source": [
    "correspondence = pd.read_csv(\"./protein_gene_conversion.csv\")\n",
    "correspondence.head()"
   ]
  },
  {
   "cell_type": "code",
   "execution_count": null,
   "metadata": {},
   "outputs": [],
   "source": [
    "rna_protein_correspondence = []\n",
    "\n",
    "for i in range(correspondence.shape[0]):\n",
    "    curr_protein_name, curr_rna_names = correspondence.iloc[i]\n",
    "    if curr_protein_name not in adata_IMC.var_names:\n",
    "        continue\n",
    "    if curr_rna_names.find('Ignore') != -1: # some correspondence ignored eg. protein isoform to one gene\n",
    "        continue\n",
    "    curr_rna_names = curr_rna_names.split('/') # eg. one protein to multiple genes\n",
    "    for r in curr_rna_names:\n",
    "        if r in adata_10X.var_names:\n",
    "            rna_protein_correspondence.append([r, curr_protein_name])\n",
    "            \n",
    "rna_protein_correspondence = np.array(rna_protein_correspondence)"
   ]
  },
  {
   "cell_type": "code",
   "execution_count": null,
   "metadata": {},
   "outputs": [],
   "source": [
    "rna_protein_correspondence"
   ]
  },
  {
   "cell_type": "code",
   "execution_count": null,
   "metadata": {},
   "outputs": [],
   "source": [
    "# Columns rna_shared and protein_shared are matched.\n",
    "# One may encounter \"Variable names are not unique\" warning,\n",
    "# this is fine and is because one RNA may encode multiple proteins and vice versa.\n",
    "rna_shared = adata_10X[:, rna_protein_correspondence[:, 0]].copy()\n",
    "protein_shared = adata_IMC[:, rna_protein_correspondence[:, 1]].copy()"
   ]
  },
  {
   "cell_type": "code",
   "execution_count": null,
   "metadata": {},
   "outputs": [],
   "source": [
    "rna_shared.shape"
   ]
  },
  {
   "cell_type": "code",
   "execution_count": null,
   "metadata": {},
   "outputs": [],
   "source": [
    "protein_shared.shape"
   ]
  },
  {
   "cell_type": "markdown",
   "metadata": {},
   "source": [
    "Retrieve the shared features.\n",
    "In this case we only use RNA or Protein features that are variable (larger than a certain threshold)."
   ]
  },
  {
   "cell_type": "code",
   "execution_count": null,
   "metadata": {},
   "outputs": [],
   "source": [
    "# Make sure no column is static\n",
    "mask = (\n",
    "    (rna_shared.X.toarray().std(axis=0) > 0.3) \n",
    "    & (protein_shared.X.std(axis=0) > 0.1)\n",
    ")\n",
    "rna_shared = rna_shared[:, mask].copy()\n",
    "protein_shared = protein_shared[:, mask].copy()\n",
    "print([rna_shared.shape,protein_shared.shape])"
   ]
  },
  {
   "cell_type": "code",
   "execution_count": null,
   "metadata": {},
   "outputs": [],
   "source": [
    "protein_shared.var_names"
   ]
  },
  {
   "cell_type": "code",
   "execution_count": null,
   "metadata": {},
   "outputs": [],
   "source": [
    "# The following features were shared between IMC and snRNAseq data:\n",
    "#'CD11b', 'CD3', 'CD3', 'CD3', 'CD4', 'CD8', 'CD45', 'CD11c', 'CD44',\n",
    "#'CD14', 'CD45RO', 'CD31', 'CD107a', 'CD206', 'ICAM1', 'CD68', 'CD163',\n",
    "#'CD38', 'CD16', 'Ki67', 'Vimentin', 'SMA', 'CD74', 'Collagen1',\n",
    "#'GranzymeB', 'Iba1', 'MHCI', 'MHCI', 'MHCI', 'MHCII', 'MHCII', 'PanCK',\n",
    "#'PanCK', 'PanCK', 'PanCK', 'Vista', 'vWF'"
   ]
  },
  {
   "cell_type": "code",
   "execution_count": null,
   "metadata": {},
   "outputs": [],
   "source": [
    "# Process rna_shared\n",
    "#sc.pp.normalize_total(rna_shared) - already done, skip this\n",
    "#sc.pp.log1p(rna_shared) - already done, skip thi\n",
    "sc.pp.scale(rna_shared)\n",
    "sc.pp.scale(protein_shared)"
   ]
  },
  {
   "cell_type": "code",
   "execution_count": null,
   "metadata": {},
   "outputs": [],
   "source": [
    "rna_shared = rna_shared.X.copy()\n",
    "protein_shared = protein_shared.X.copy()"
   ]
  },
  {
   "cell_type": "code",
   "execution_count": null,
   "metadata": {},
   "outputs": [],
   "source": [
    "rna_shared"
   ]
  },
  {
   "cell_type": "code",
   "execution_count": null,
   "metadata": {},
   "outputs": [],
   "source": [
    "protein_shared"
   ]
  },
  {
   "cell_type": "markdown",
   "metadata": {},
   "source": [
    "Apply standard preprocessing steps to **all available RNA measurements and protein measurements** (not just the shared ones) to get two arrays, `rna_active` and `protein_active`, which are used for iterative refinement. Again if the input data is already processed, these steps can be skipped."
   ]
  },
  {
   "cell_type": "code",
   "execution_count": null,
   "metadata": {},
   "outputs": [],
   "source": [
    "# process all RNA features\n",
    "sc.pp.highly_variable_genes(adata_10X, n_top_genes=8000)\n",
    "# only retain highly variable genes\n",
    "adata_10X = adata_10X[:, adata_10X.var.highly_variable].copy()\n",
    "sc.pp.scale(adata_10X)"
   ]
  },
  {
   "cell_type": "code",
   "execution_count": null,
   "metadata": {},
   "outputs": [],
   "source": [
    "sc.pp.scale(adata_IMC)"
   ]
  },
  {
   "cell_type": "code",
   "execution_count": null,
   "metadata": {},
   "outputs": [],
   "source": [
    "# make sure no feature is static\n",
    "rna_active = adata_10X.X\n",
    "protein_active = adata_IMC.X\n",
    "rna_active = rna_active[:, rna_active.std(axis=0) > 1e-5] # these are fine since already using variable features\n",
    "protein_active = protein_active[:, protein_active.std(axis=0) > 1e-5] # protein are generally variable"
   ]
  },
  {
   "cell_type": "code",
   "execution_count": null,
   "metadata": {},
   "outputs": [],
   "source": [
    "# inspect shape of the four matrices\n",
    "print(rna_active.shape)\n",
    "print(protein_active.shape)\n",
    "print(rna_shared.shape)\n",
    "print(protein_shared.shape)"
   ]
  },
  {
   "cell_type": "code",
   "execution_count": null,
   "metadata": {},
   "outputs": [],
   "source": [
    "rna_active"
   ]
  },
  {
   "cell_type": "code",
   "execution_count": null,
   "metadata": {},
   "outputs": [],
   "source": [
    "protein_active"
   ]
  },
  {
   "cell_type": "markdown",
   "metadata": {},
   "source": [
    "## Fitting MaxFuse"
   ]
  },
  {
   "cell_type": "markdown",
   "metadata": {},
   "source": [
    "### Step I: preparations"
   ]
  },
  {
   "cell_type": "code",
   "execution_count": null,
   "metadata": {},
   "outputs": [],
   "source": [
    "labels1 = adata_IMC.obs['pheno_cluster_new']\n",
    "labels2 = adata_10X.obs['fine_annotation']"
   ]
  },
  {
   "cell_type": "code",
   "execution_count": null,
   "metadata": {},
   "outputs": [],
   "source": [
    "labels1 = np.array(labels1)\n",
    "labels2 = np.array(labels2)"
   ]
  },
  {
   "cell_type": "code",
   "execution_count": null,
   "metadata": {},
   "outputs": [],
   "source": [
    "labels1"
   ]
  },
  {
   "cell_type": "code",
   "execution_count": null,
   "metadata": {},
   "outputs": [],
   "source": [
    "labels2"
   ]
  },
  {
   "cell_type": "code",
   "execution_count": null,
   "metadata": {},
   "outputs": [],
   "source": [
    "# call constructor for Fusor object\n",
    "# which is the main object for running MaxFuse pipeline\n",
    "fusor = mf.model.Fusor(\n",
    "    shared_arr1=protein_shared,\n",
    "    shared_arr2=rna_shared,\n",
    "    active_arr1=protein_active,\n",
    "    active_arr2=rna_active,\n",
    "    labels1=labels1, #optional cluster labels for the rna dataset\n",
    "    labels2=labels2 #optional cluster labels for the protein dataset\n",
    ")"
   ]
  },
  {
   "cell_type": "code",
   "execution_count": null,
   "metadata": {},
   "outputs": [],
   "source": [
    "fusor"
   ]
  },
  {
   "cell_type": "markdown",
   "metadata": {},
   "source": [
    "To reduce computational complexity, call `split_into_batches` to fit the batched version of MaxFuse."
   ]
  },
  {
   "cell_type": "code",
   "execution_count": null,
   "metadata": {},
   "outputs": [],
   "source": [
    "fusor.split_into_batches(\n",
    "    max_outward_size=8000,\n",
    "    matching_ratio=2,\n",
    "    metacell_size=2,\n",
    "    verbose=True\n",
    ")"
   ]
  },
  {
   "cell_type": "code",
   "execution_count": null,
   "metadata": {},
   "outputs": [],
   "source": [
    "# plot top singular values of avtive_arr1 on a random batch\n",
    "fusor.plot_singular_values(\n",
    "    target='active_arr1',\n",
    "    n_components=None # can also explicitly specify the number of components\n",
    ")"
   ]
  },
  {
   "cell_type": "code",
   "execution_count": null,
   "metadata": {},
   "outputs": [],
   "source": [
    "# plot top singular values of avtive_arr2 on a random batch\n",
    "fusor.plot_singular_values(\n",
    "    target='active_arr2',\n",
    "    n_components=None\n",
    ")"
   ]
  },
  {
   "cell_type": "markdown",
   "metadata": {},
   "source": [
    "Inspect the \"elbows\" to choose the number of PCs to be used for both active data.\n",
    "Then call `construct_graphs` to compute nearest-neighbor graphs as needed."
   ]
  },
  {
   "cell_type": "code",
   "execution_count": null,
   "metadata": {
    "scrolled": true
   },
   "outputs": [],
   "source": [
    "fusor.construct_graphs(\n",
    "    n_neighbors1=15,\n",
    "    n_neighbors2=15,\n",
    "    svd_components1=30,\n",
    "    svd_components2=40,\n",
    "    resolution1=2, #leiden clustering resolution\n",
    "    resolution2=2, #leiden clustering resolution\n",
    "    resolution_tol=0.1,\n",
    "    verbose=True\n",
    ")"
   ]
  },
  {
   "cell_type": "markdown",
   "metadata": {},
   "source": [
    "### Step II: finding initial pivots"
   ]
  },
  {
   "cell_type": "markdown",
   "metadata": {},
   "source": [
    "Use the shared arrays whose columns are matched to find initial pivots.\n",
    "Plot top singular values of two shared arrays to determine how many PCs to use."
   ]
  },
  {
   "cell_type": "code",
   "execution_count": null,
   "metadata": {},
   "outputs": [],
   "source": [
    "# plot top singular values of shared_arr1 on a random batch\n",
    "fusor.plot_singular_values(\n",
    "    target='shared_arr1',\n",
    "    n_components=None,\n",
    ")"
   ]
  },
  {
   "cell_type": "code",
   "execution_count": null,
   "metadata": {
    "scrolled": true
   },
   "outputs": [],
   "source": [
    "# plot top singular values of shared_arr2 on a random batch\n",
    "fusor.plot_singular_values(\n",
    "    target='shared_arr2',\n",
    "    n_components=None\n",
    ")"
   ]
  },
  {
   "cell_type": "code",
   "execution_count": null,
   "metadata": {
    "scrolled": true
   },
   "outputs": [],
   "source": [
    "# In the case of integration that involves **spatial** data, \n",
    "# the developers encourage using ``wt1 = 0.3`` and ``wt2 = 0.3`` since such datasets are usually \"weaker\" in linkage and requires stronger \"smoothing\".\n",
    "fusor.find_initial_pivots(\n",
    "    wt1=0.3, wt2=0.3,\n",
    "    svd_components1=28, svd_components2=30\n",
    ")"
   ]
  },
  {
   "cell_type": "markdown",
   "metadata": {},
   "source": [
    "Now, the set of *initial pivots* store the matched pairs when only the information in the shared arrays is used. The information on initial pivots are stored in the internal field ``fusor._init_matching`` that is invisible to users."
   ]
  },
  {
   "cell_type": "markdown",
   "metadata": {},
   "source": [
    "### Step III: finding refined pivots"
   ]
  },
  {
   "cell_type": "markdown",
   "metadata": {},
   "source": [
    "Use the information in active arrays to iteratively refine initial pivots.\n",
    "Plot the top canonical correlations to choose the best number of components in canonical correlation analysis (CCA)."
   ]
  },
  {
   "cell_type": "code",
   "execution_count": null,
   "metadata": {},
   "outputs": [],
   "source": [
    "# plot top canonical correlations in a random batch\n",
    "fusor.plot_canonical_correlations(\n",
    "    svd_components1=None,\n",
    "    svd_components2=50,\n",
    "    cca_components=39\n",
    ")"
   ]
  },
  {
   "cell_type": "markdown",
   "metadata": {},
   "source": [
    "A quick check on the previous plot gives a rough guide on what the `refine_pivots` parameters should be picked.\n",
    "\n",
    "**Note:** here that the `n_iters` number we choosed *1*, as in low snr datasets (eg. Spatial-omis) increase amount of iteration might degrade the performance."
   ]
  },
  {
   "cell_type": "code",
   "execution_count": null,
   "metadata": {},
   "outputs": [],
   "source": [
    "fusor.refine_pivots(\n",
    "    wt1=0.3, wt2=0.3,\n",
    "    svd_components1=None, svd_components2=40,\n",
    "    cca_components=30,\n",
    "    n_iters=1,\n",
    "    randomized_svd=False, \n",
    "    svd_runs=1,\n",
    "    verbose=True\n",
    ")"
   ]
  },
  {
   "cell_type": "markdown",
   "metadata": {},
   "source": [
    "**Note:** here we can see `filter_prop` we increased the pivot filtering to *0.5* compared to previous example. We found harsher filtering for integrations that involves spatial-omics is more beneficial."
   ]
  },
  {
   "cell_type": "code",
   "execution_count": null,
   "metadata": {
    "scrolled": true
   },
   "outputs": [],
   "source": [
    "fusor.filter_bad_matches(target='pivot', filter_prop=0.5)"
   ]
  },
  {
   "cell_type": "markdown",
   "metadata": {},
   "source": [
    "**Optional:** quick check the performance based on cell type accuracy (pivot matching)."
   ]
  },
  {
   "cell_type": "code",
   "execution_count": null,
   "metadata": {},
   "outputs": [],
   "source": [
    "pivot_matching = fusor.get_matching(order=(1, 2),target='pivot')\n",
    "\n",
    "lv1_acc = mf.metrics.get_matching_acc(matching=pivot_matching, \n",
    "    labels1=labels1, \n",
    "    labels2=labels2,\n",
    "    order = (1, 2)\n",
    ")\n",
    "lv1_acc"
   ]
  },
  {
   "cell_type": "code",
   "execution_count": null,
   "metadata": {},
   "outputs": [],
   "source": [
    "matched_pivot_cells = pd.DataFrame(list(zip(pivot_matching[0], pivot_matching[1], pivot_matching[2])), \n",
    "             columns = ['mod1_indx', 'mod2_indx', 'score'])\n",
    "matched_pivot_cells.to_csv('MaxFuse_IMC_snRNAseq_matched_pivots.csv', index=True)"
   ]
  },
  {
   "cell_type": "code",
   "execution_count": null,
   "metadata": {},
   "outputs": [],
   "source": [
    "matched_pivot_cells"
   ]
  },
  {
   "cell_type": "code",
   "execution_count": null,
   "metadata": {},
   "outputs": [],
   "source": [
    "# We can inspect the first pivot pair.\n",
    "[pivot_matching[0][0], pivot_matching[1][0], pivot_matching[2][0]]"
   ]
  },
  {
   "cell_type": "code",
   "execution_count": null,
   "metadata": {},
   "outputs": [],
   "source": [
    "# compute the confusion matrix to see where the pivot matching goes wrong.\n",
    "cm = confusion_matrix(labels1[pivot_matching[0]], labels2[pivot_matching[1]])\n",
    "ConfusionMatrixDisplay(\n",
    "    confusion_matrix=np.round((cm.T/np.sum(cm, axis=1)).T*100), \n",
    "    display_labels=np.unique(labels1)\n",
    ").plot()"
   ]
  },
  {
   "cell_type": "markdown",
   "metadata": {},
   "source": [
    "**Note:** With the `refine_pivots`, we can theoratically co-embed the *full* dataset into CCA space\n",
    ". **However**, in the case that invovles *low-snr* datasets (eg. spatial-omics), the developers do not suggest projecting all the cells into a common space without any filtering steps. \n",
    "This is done after the `propogation` step."
   ]
  },
  {
   "cell_type": "markdown",
   "metadata": {},
   "source": [
    "### Step IV: propagation"
   ]
  },
  {
   "cell_type": "markdown",
   "metadata": {},
   "source": [
    "Refined pivots can only give us a pivot matching that captures a subset of cells. In order to get a *full* matching that involves all cells during input, we need to call `propagate`.\n"
   ]
  },
  {
   "cell_type": "code",
   "execution_count": null,
   "metadata": {},
   "outputs": [],
   "source": [
    "fusor.propagate(\n",
    "    svd_components1=38, \n",
    "    svd_components2=None, \n",
    "    wt1=0.7,\n",
    "    wt2=0.7,\n",
    ")"
   ]
  },
  {
   "cell_type": "markdown",
   "metadata": {},
   "source": [
    "`filter_bad_matches` with `target=propagated` to optionally filter away a few matched pairs from propagation. \n",
    "\n",
    "**Note:** In the best scenario, we would prefer all cells in the *full* dataset can be matched accross modality. However, in the case that invovles *low-snr* datasets (eg. spatial-omics), many cells are noisy (or lack of information) and should not be included in downstream cross-modality analysis.\n",
    "The developers suggest in such scenarios, `filter_prop` should be set around *0.1-0.4*."
   ]
  },
  {
   "cell_type": "code",
   "execution_count": null,
   "metadata": {
    "scrolled": true
   },
   "outputs": [],
   "source": [
    "fusor.filter_bad_matches(\n",
    "    target='propagated',\n",
    "    filter_prop=0.3\n",
    ")"
   ]
  },
  {
   "cell_type": "markdown",
   "metadata": {},
   "source": [
    "We use `get_matching` with `target='full_data'` to extract the full matching.\n",
    "\n",
    "Because of the batching operation, the resulting matching may contain duplicates. The `order` argument determines how those duplicates are dealt with. \n",
    "`order=None` means doing nothing and returning the matching with potential duplicates;\n",
    "`order=(1, 2)` means returning a matching where each cell in the first modality contains *at least one match* in the second modality;\n",
    "`order=(2, 1)` means returning a matching where each cell in the second modality contains *at least one match* in the first modality.\n",
    "\n",
    "**Note:** Since we filtered out some cell pairs here, not all cells in the full dataset has matches."
   ]
  },
  {
   "cell_type": "code",
   "execution_count": null,
   "metadata": {},
   "outputs": [],
   "source": [
    "full_matching = fusor.get_matching(order=(1, 2), target='full_data')"
   ]
  },
  {
   "cell_type": "code",
   "execution_count": null,
   "metadata": {},
   "outputs": [],
   "source": [
    "full_matching"
   ]
  },
  {
   "cell_type": "code",
   "execution_count": null,
   "metadata": {},
   "outputs": [],
   "source": [
    "matched_cells = pd.DataFrame(list(zip(full_matching[0], full_matching[1], full_matching[2])), \n",
    "             columns = ['mod1_indx', 'mod2_indx', 'score'])\n",
    "# columns: cell idx in mod1, cell idx in mod2, and matching scores"
   ]
  },
  {
   "cell_type": "code",
   "execution_count": null,
   "metadata": {},
   "outputs": [],
   "source": [
    "matched_cells"
   ]
  },
  {
   "cell_type": "code",
   "execution_count": null,
   "metadata": {},
   "outputs": [],
   "source": [
    "#compression_opts = dict(method='zip', archive_name='MaxFuse_Cosmx1K_Cosmx6K_matched_pairs.csv') \n",
    "matched_cells.to_csv('MaxFuse_IMC_snRNAseq_matched_pairs.csv', index=True, chunksize=537862)"
   ]
  },
  {
   "cell_type": "code",
   "execution_count": null,
   "metadata": {
    "scrolled": true
   },
   "outputs": [],
   "source": [
    "# compute the cell type level matching accuracy, for the full (filtered version) dataset\n",
    "lv1_acc = mf.metrics.get_matching_acc(matching=full_matching, \n",
    "    labels1=labels1, \n",
    "    labels2=labels2 \n",
    ")\n",
    "lv1_acc"
   ]
  },
  {
   "cell_type": "code",
   "execution_count": null,
   "metadata": {},
   "outputs": [],
   "source": [
    "cm = confusion_matrix(labels1[full_matching[0]], labels2[full_matching[1]])\n",
    "ConfusionMatrixDisplay(\n",
    "    confusion_matrix=np.round((cm.T/np.sum(cm, axis=1)).T*100), \n",
    "    display_labels=np.unique(labels1)\n",
    ").plot()"
   ]
  },
  {
   "cell_type": "markdown",
   "metadata": {},
   "source": [
    "### Step V: downstream analysis"
   ]
  },
  {
   "cell_type": "markdown",
   "metadata": {},
   "source": [
    "As mentioned before, we want to draw a UMAP in the joint-embedding space, but for the filtered version of cells. For the *low-snr* datasets (eg. spatial-omics), the developers suggest only using cells that passed the propogation filtering step."
   ]
  },
  {
   "cell_type": "code",
   "execution_count": null,
   "metadata": {},
   "outputs": [],
   "source": [
    "protein_cca, rna_cca_sub = fusor.get_embedding(\n",
    "    active_arr1=fusor.active_arr1,\n",
    "    active_arr2=fusor.active_arr2[full_matching[1],:] # cells in cosmx6k remained after filtering\n",
    ")"
   ]
  },
  {
   "cell_type": "code",
   "execution_count": null,
   "metadata": {},
   "outputs": [],
   "source": [
    "print(protein_cca.shape)"
   ]
  },
  {
   "cell_type": "code",
   "execution_count": null,
   "metadata": {},
   "outputs": [],
   "source": [
    "print(rna_cca_sub.shape)"
   ]
  },
  {
   "cell_type": "code",
   "execution_count": null,
   "metadata": {},
   "outputs": [],
   "source": [
    "# cells from IMC dataset in the cca embedding\n",
    "protein_cca"
   ]
  },
  {
   "cell_type": "code",
   "execution_count": null,
   "metadata": {},
   "outputs": [],
   "source": [
    "full_matching[0]"
   ]
  },
  {
   "cell_type": "code",
   "execution_count": null,
   "metadata": {},
   "outputs": [],
   "source": [
    "rna_cca_sub"
   ]
  },
  {
   "cell_type": "code",
   "execution_count": null,
   "metadata": {},
   "outputs": [],
   "source": [
    "full_matching[1]"
   ]
  },
  {
   "cell_type": "code",
   "execution_count": null,
   "metadata": {},
   "outputs": [],
   "source": [
    "all_indexes = np.concatenate((full_matching[0], full_matching[1]), axis=0)"
   ]
  },
  {
   "cell_type": "code",
   "execution_count": null,
   "metadata": {},
   "outputs": [],
   "source": [
    "all_indexes"
   ]
  },
  {
   "cell_type": "code",
   "execution_count": null,
   "metadata": {},
   "outputs": [],
   "source": [
    "print(all_indexes.shape)"
   ]
  },
  {
   "cell_type": "code",
   "execution_count": null,
   "metadata": {},
   "outputs": [],
   "source": [
    "dim_use = 15\n",
    "allcca = np.concatenate((protein_cca[:,:dim_use], rna_cca_sub[randix,:dim_use]), axis=0)\n",
    "allcca_df = pd.DataFrame(allcca)\n",
    "allcca_df\n",
    "allcca_df.to_csv(\"./IMC_snRNAseq_cca_preUmap.csv\", index = True)"
   ]
  },
  {
   "cell_type": "code",
   "execution_count": null,
   "metadata": {},
   "outputs": [],
   "source": [
    "allcca_df2 = pd.DataFrame(allcca, index=all_indexes)\n",
    "allcca_df2 "
   ]
  },
  {
   "cell_type": "code",
   "execution_count": null,
   "metadata": {},
   "outputs": [],
   "source": [
    "allcca_df2.to_csv(\"./IMC_snRNAseq_cca_preUmap_v2.csv\", index = True)"
   ]
  },
  {
   "cell_type": "markdown",
   "metadata": {},
   "source": [
    "Since we have *~170,000* cells for CODEX, calculating UMAP for the full dataset will take a while, for showcasing we can just subsample a smaller sample."
   ]
  },
  {
   "cell_type": "code",
   "execution_count": null,
   "metadata": {},
   "outputs": [],
   "source": [
    "np.random.seed(56)\n",
    "subs = 50000\n",
    "randix = np.random.choice(rna_cca_sub.shape[0],subs, replace = False)\n",
    "\n",
    "dim_use = 15 # dimensions of the CCA embedding to be used for UMAP etc\n",
    "\n",
    "cca_adata = ad.AnnData(\n",
    "    np.concatenate((protein_cca[:,:dim_use], rna_cca_sub[randix,:dim_use]), axis=0), \n",
    "    dtype=np.float32\n",
    ")\n",
    "cca_adata.obs['data_type'] = ['IMC'] * protein_cca.shape[0] + ['snRNAseq'] * subs\n",
    "cca_adata.obs['cell_type'] = list(np.concatenate((labels1,\n",
    "                                                  labels2[full_matching[1]][randix]), axis = 0))"
   ]
  },
  {
   "cell_type": "code",
   "execution_count": null,
   "metadata": {},
   "outputs": [],
   "source": [
    "sc.pp.neighbors(cca_adata, n_neighbors=15)\n",
    "sc.tl.umap(cca_adata)\n"
   ]
  },
  {
   "cell_type": "markdown",
   "metadata": {},
   "source": [
    "Diagnostic plots to QC the match of the snRNAseq data with the IMC data"
   ]
  },
  {
   "cell_type": "code",
   "execution_count": null,
   "metadata": {},
   "outputs": [],
   "source": [
    "sc.pl.umap(cca_adata, color='data_type', save='cca_adata_data_type.pdf')"
   ]
  },
  {
   "cell_type": "code",
   "execution_count": null,
   "metadata": {
    "scrolled": true
   },
   "outputs": [],
   "source": [
    "sc.pl.umap(cca_adata, color='cell_type', save='cca_adata_cell_type.pdf')"
   ]
  },
  {
   "cell_type": "code",
   "execution_count": null,
   "metadata": {},
   "outputs": [],
   "source": [
    "sc.pl.umap(cca_adata, color='cell_type', groups = ['AT1', 'AT2', 'AT2 cell',\n",
    "                                                 'SARSCoV2+ AT2 cell', 'SARSCoV2+ Epithelial cell'], save= 'cca_adata_epithelial.pdf')\n"
   ]
  },
  {
   "cell_type": "code",
   "execution_count": null,
   "metadata": {},
   "outputs": [],
   "source": [
    "sc.pl.umap(cca_adata, color='cell_type', groups = ['Interstitial Macrophage', 'Interstitial macrophages', 'Monocyte-derived macrophages',\n",
    "                                                 'Proliferating Interstitial Macrophage', 'SARSCoV2+ Interstitial Macrophage', ], save= 'cca_adata_interstitial_macrophages.pdf')\n"
   ]
  },
  {
   "cell_type": "code",
   "execution_count": null,
   "metadata": {},
   "outputs": [],
   "source": [
    "sc.pl.umap(cca_adata, color='cell_type', groups = ['Alveolar Macrophage', 'Alveolar macrophages', 'Apoptotic Alveolar Macrophage',\n",
    "                                                 'Apoptotic SARSCoV2+ Alveolar Macrophage'], save= 'cca_adata_alveolar_macrophages.pdf')"
   ]
  },
  {
   "cell_type": "code",
   "execution_count": null,
   "metadata": {},
   "outputs": [],
   "source": [
    "sc.pl.umap(cca_adata, color='cell_type', groups = ['ArginaseHighVISTAHigh Activated Neutrophil', 'SARSCoV2+ ArginaseHighVISTAHigh Activated Neutrophil','ArginaseLowVISTALow Activated Neutrophil', 'ArginaseLowVISTALow Neutrophil',\n",
    "                                                 'CD16+ Neutrophils', 'CD16- Neutrophils'], save= 'cca_adata_neutrophils.pdf')\n"
   ]
  },
  {
   "cell_type": "code",
   "execution_count": null,
   "metadata": {},
   "outputs": [],
   "source": [
    "cca_adata #anndata object based on the 15 CCA embeddings"
   ]
  },
  {
   "cell_type": "code",
   "execution_count": null,
   "metadata": {},
   "outputs": [],
   "source": [
    "cca_adata.obs"
   ]
  },
  {
   "cell_type": "code",
   "execution_count": null,
   "metadata": {},
   "outputs": [],
   "source": [
    "cca_adata.write('./cca_adata.h5ad')"
   ]
  },
  {
   "cell_type": "code",
   "execution_count": null,
   "metadata": {},
   "outputs": [],
   "source": [
    "all_umap = cca_adata.obsm[\"X_umap\"]\n",
    "# convert to data a frame\n",
    "all_umap = pd.DataFrame(all_umap, index=cca_adata.obs_names)\n",
    "all_umap.to_csv(\"./IMC_snRNAseq_cca_umap.csv\", index=True)  "
   ]
  },
  {
   "cell_type": "code",
   "execution_count": null,
   "metadata": {},
   "outputs": [],
   "source": [
    "all_umap"
   ]
  }
 ],
 "metadata": {
  "kernelspec": {
   "display_name": "Python 3 (ipykernel)",
   "language": "python",
   "name": "python3"
  },
  "language_info": {
   "codemirror_mode": {
    "name": "ipython",
    "version": 3
   },
   "file_extension": ".py",
   "mimetype": "text/x-python",
   "name": "python",
   "nbconvert_exporter": "python",
   "pygments_lexer": "ipython3",
   "version": "3.9.13"
  }
 },
 "nbformat": 4,
 "nbformat_minor": 4
}
